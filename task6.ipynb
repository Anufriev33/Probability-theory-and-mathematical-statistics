{
 "cells": [
  {
   "cell_type": "markdown",
   "metadata": {},
   "source": [
    "## Урок 6.\n",
    "Сравнение долей. Построение доверительного интервала"
   ]
  },
  {
   "cell_type": "markdown",
   "metadata": {},
   "source": [
    "1. Известно, что генеральная совокупность распределена нормально со средним квадратическим отклонением, равным 16. Найти доверительный интервал для оценки математического ожидания a с надежностью 0.95, если выборочная средняя M = 80, а объем выборки n = 256."
   ]
  },
  {
   "cell_type": "code",
   "execution_count": 31,
   "metadata": {},
   "outputs": [],
   "source": [
    "import numpy as np\n",
    "from scipy import stats"
   ]
  },
  {
   "cell_type": "markdown",
   "metadata": {},
   "source": [
    "Рассчитывается по формуле : $$\\overline{X}\\pm Z\\frac{a}{2}*\\frac{\\sigma}{\\sqrt n}$$"
   ]
  },
  {
   "cell_type": "markdown",
   "metadata": {},
   "source": [
    "$${80} \\pm (1.96*\\frac{16}{\\sqrt 256})$$"
   ]
  },
  {
   "cell_type": "code",
   "execution_count": 42,
   "metadata": {},
   "outputs": [
    {
     "data": {
      "text/plain": [
       "-1.9599639845400545"
      ]
     },
     "execution_count": 42,
     "metadata": {},
     "output_type": "execute_result"
    }
   ],
   "source": [
    "m = 80 #среднее значение выборки\n",
    "sigma = 16 # среднее квадратичное отклонение генеральной совокупности\n",
    "n = 256 # обьем выборки\n",
    "p = 0.95 #\n",
    "alpha = 0.05 #\n",
    "z = stats.norm.ppf(alpha/2) # табличное значение -критерия Z для доверительного интервала\n",
    "z"
   ]
  },
  {
   "cell_type": "code",
   "execution_count": 41,
   "metadata": {},
   "outputs": [
    {
     "name": "stdout",
     "output_type": "stream",
     "text": [
      "Доверительный интервал для оценки математического ожидания находится в (79.7205953117579, 80.2794046882421)\n"
     ]
    }
   ],
   "source": [
    "P=( m + z * sigma / np.sqrt(n),m - z * sigma / np.sqrt(n)) \n",
    "print(f'Доверительный интервал для оценки математического ожидания находится в {P}')"
   ]
  },
  {
   "cell_type": "markdown",
   "metadata": {},
   "source": [
    "2. В результате 10 независимых измерений некоторой величины X, выполненных с одинаковой точностью, получены опытные данные: 6.9, 6.1, 6.2, 6.8, 7.5, 6.3, 6.4, 6.9, 6.7, 6.1 Предполагая, что результаты измерений подчинены нормальному закону распределения вероятностей, оценить истинное значение величины X при помощи доверительного интервала, покрывающего это значение с доверительной вероятностью 0,95."
   ]
  },
  {
   "cell_type": "markdown",
   "metadata": {},
   "source": [
    "Рассчитывается по формуле : $$\\overline{X}\\pm t\\frac{a}{2}*\\frac{\\sigma}{\\sqrt n}$$"
   ]
  },
  {
   "cell_type": "code",
   "execution_count": 68,
   "metadata": {},
   "outputs": [
    {
     "data": {
      "text/plain": [
       "6.590000000000001"
      ]
     },
     "execution_count": 68,
     "metadata": {},
     "output_type": "execute_result"
    }
   ],
   "source": [
    "data=np.array([6.9, 6.1, 6.2, 6.8, 7.5, 6.3, 6.4, 6.9, 6.7, 6.1])\n",
    "x1=np.mean(data) # Найдем среднее арифмитическое для выборки data\n",
    "x1"
   ]
  },
  {
   "cell_type": "code",
   "execution_count": 69,
   "metadata": {},
   "outputs": [
    {
     "data": {
      "text/plain": [
       "0.4508017549014448"
      ]
     },
     "execution_count": 69,
     "metadata": {},
     "output_type": "execute_result"
    }
   ],
   "source": [
    "sigma = np.std(data,ddof=1)\n",
    "sigma"
   ]
  },
  {
   "cell_type": "code",
   "execution_count": 71,
   "metadata": {},
   "outputs": [
    {
     "name": "stdout",
     "output_type": "stream",
     "text": [
      "10\n",
      "Значение t-критерия для 0.95% доверительного интервала=2.2621571627409915\n"
     ]
    }
   ],
   "source": [
    "n=len(data)\n",
    "print(n)\n",
    "a=0.05\n",
    "t=stats.t.ppf( 1-a/2, n-1)\n",
    "print(f'Значение t-критерия для 0.95% доверительного интервала={t}')"
   ]
  },
  {
   "cell_type": "code",
   "execution_count": 72,
   "metadata": {},
   "outputs": [
    {
     "name": "stdout",
     "output_type": "stream",
     "text": [
      "Доверительный интервал для 'X' составляет (6.267515851415713, 6.912484148584288)\n"
     ]
    }
   ],
   "source": [
    "l_x=(x1-t*sigma/np.sqrt(n),(x1+t*sigma/np.sqrt(n)))\n",
    "print(f\"Доверительный интервал для 'X' составляет {l_x}\")"
   ]
  },
  {
   "cell_type": "markdown",
   "metadata": {},
   "source": [
    "3.Рост дочерей 175, 167, 154, 174, 178, 148, 160, 167, 169, 170 Рост матерей  178, 165, 165, 173, 168, 155, 160, 164, 178, 175 <br>\n",
    "Используя эти данные построить 95% доверительный интервал для разности среднего роста родителей и детей."
   ]
  },
  {
   "cell_type": "markdown",
   "metadata": {},
   "source": [
    "Интервальная оценка для разности средних арефмитических рассчитывается по формуле : \n",
    "$$\\delta\\pm t\\frac{a}{2}*S\\delta,где\\delta = \\overline{X1} -\\overline{X2}$$"
   ]
  },
  {
   "cell_type": "code",
   "execution_count": 51,
   "metadata": {},
   "outputs": [],
   "source": [
    "mothers = np.array([175, 167, 154, 174, 178, 148, 160, 167, 169, 170])\n",
    "daughters= np.array([178, 165, 165, 173, 168, 155, 160, 164, 178, 175]) "
   ]
  },
  {
   "cell_type": "code",
   "execution_count": 52,
   "metadata": {},
   "outputs": [
    {
     "name": "stdout",
     "output_type": "stream",
     "text": [
      "среднее арифмитическое роста матерей =166.2\n",
      "среднее арифмитическое роста дочерей =168.1\n"
     ]
    }
   ],
   "source": [
    "#Найдем среднее арифмитическое для 2 выборок:\n",
    "a_1=np.mean(mothers)\n",
    "print(f'среднее арифмитическое роста матерей ={a_1}')\n",
    "a_2=np.mean(daughters)\n",
    "print(f'среднее арифмитическое роста дочерей ={a_2}')"
   ]
  },
  {
   "cell_type": "markdown",
   "metadata": {},
   "source": [
    "Рассчитывается по формуле : $$\\delta\\pm t\\frac{a}{2}*S\\delta$$"
   ]
  },
  {
   "cell_type": "code",
   "execution_count": 53,
   "metadata": {},
   "outputs": [
    {
     "data": {
      "text/plain": [
       "-1.9000000000000057"
      ]
     },
     "execution_count": 53,
     "metadata": {},
     "output_type": "execute_result"
    }
   ],
   "source": [
    "delta =a_1-a_2 # дельта(разность) средних\n",
    "delta"
   ]
  },
  {
   "cell_type": "code",
   "execution_count": 54,
   "metadata": {},
   "outputs": [
    {
     "data": {
      "text/plain": [
       "91.06666666666666"
      ]
     },
     "execution_count": 54,
     "metadata": {},
     "output_type": "execute_result"
    }
   ],
   "source": [
    "D1=np.var(mothers,ddof=1) #несмещенная дисперсия для выборки 1\n",
    "D1"
   ]
  },
  {
   "cell_type": "code",
   "execution_count": 55,
   "metadata": {},
   "outputs": [
    {
     "data": {
      "text/plain": [
       "60.10000000000001"
      ]
     },
     "execution_count": 55,
     "metadata": {},
     "output_type": "execute_result"
    }
   ],
   "source": [
    "D2=np.var(daughters,ddof=1) #несмещенная дисперсия для выборки 2\n",
    "D2"
   ]
  },
  {
   "cell_type": "code",
   "execution_count": 56,
   "metadata": {},
   "outputs": [
    {
     "data": {
      "text/plain": [
       "75.58333333333334"
      ]
     },
     "execution_count": 56,
     "metadata": {},
     "output_type": "execute_result"
    }
   ],
   "source": [
    "Ds=(D1+D2)/2 # обьединенная оценка дисперсии\n",
    "Ds "
   ]
  },
  {
   "cell_type": "code",
   "execution_count": 57,
   "metadata": {},
   "outputs": [
    {
     "data": {
      "text/plain": [
       "3.8880157750022915"
      ]
     },
     "execution_count": 57,
     "metadata": {},
     "output_type": "execute_result"
    }
   ],
   "source": [
    "n=len(mothers)\n",
    "SE = np.sqrt(Ds/10+Ds/10)\n",
    "SE"
   ]
  },
  {
   "cell_type": "code",
   "execution_count": 58,
   "metadata": {},
   "outputs": [
    {
     "data": {
      "text/plain": [
       "2.10092204024096"
      ]
     },
     "execution_count": 58,
     "metadata": {},
     "output_type": "execute_result"
    }
   ],
   "source": [
    "t = stats.t.ppf(0.975 ,2 * (n-1))\n",
    "t"
   ]
  },
  {
   "cell_type": "code",
   "execution_count": 66,
   "metadata": {},
   "outputs": [
    {
     "name": "stdout",
     "output_type": "stream",
     "text": [
      "Доверительный интерал для 95% (-10.068418034506857, 6.268418034506846)\n"
     ]
    }
   ],
   "source": [
    "res = delta-t*SE , delta + t*SE\n",
    "print(f'Доверительный интерал для 95% {res}')"
   ]
  }
 ],
 "metadata": {
  "kernelspec": {
   "display_name": "Python 3",
   "language": "python",
   "name": "python3"
  },
  "language_info": {
   "codemirror_mode": {
    "name": "ipython",
    "version": 3
   },
   "file_extension": ".py",
   "mimetype": "text/x-python",
   "name": "python",
   "nbconvert_exporter": "python",
   "pygments_lexer": "ipython3",
   "version": "3.11.5"
  },
  "orig_nbformat": 4
 },
 "nbformat": 4,
 "nbformat_minor": 2
}
