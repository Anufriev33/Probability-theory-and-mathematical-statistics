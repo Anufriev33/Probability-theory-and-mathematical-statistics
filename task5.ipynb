{
 "cells": [
  {
   "cell_type": "markdown",
   "metadata": {},
   "source": [
    "## Урок 5 Тестирование гипотез"
   ]
  },
  {
   "cell_type": "markdown",
   "metadata": {},
   "source": [
    "1) Когда используется критерий Стьюдента, а когда Z –критерий?\n",
    "Задачи 2,3 решать вручную"
   ]
  },
  {
   "cell_type": "markdown",
   "metadata": {},
   "source": [
    "* Z - критерий используется в случае  известной сигмы генеральной совокупности и условия применимости параметрических тестов соблюдены.  \n"
   ]
  },
  {
   "cell_type": "markdown",
   "metadata": {},
   "source": [
    "* Если неизвестна сигма генеральной совокупности и соблюдаются остальные условия применимости параметрических тестов, то следует использовать  критерий Стьюдента. \n",
    "Сигму рассчитываем по выборке."
   ]
  },
  {
   "cell_type": "markdown",
   "metadata": {},
   "source": [
    "2) Проведите тест гипотезы. Утверждается, что шарики для подшипников, изготовленные автоматическим станком, имеют средний диаметр 17 мм.\n",
    "Используя односторонний критерий с α=0,05, проверить эту гипотезу, если в выборке из n=100 шариков средний диаметр оказался равным 17.5 мм, а дисперсия известна и равна 4 кв. мм.\n"
   ]
  },
  {
   "cell_type": "code",
   "execution_count": 35,
   "metadata": {},
   "outputs": [],
   "source": [
    "import numpy as np\n",
    "from scipy import stats\n",
    "from scipy.stats import norm"
   ]
  },
  {
   "cell_type": "markdown",
   "metadata": {},
   "source": [
    "Для проверки гипотезы будем использовать Z критерий, так как известна сигмы генеральной совокупности.\n",
    "\n",
    "Формулируем нулевую и альтернативную гипотезы:\n",
    "\n",
    "m = 17мм - cредний диаметр шариков равен 17 мм m1 не= 17мм - средний диаметр шариков не равен 17 мм 0,05 - уровень значимости альфа Вычисляем статистику теста Z: Z=(17.5-17)/sqrt(4)/sqrt(100)=2.5 Ищем критическую область: Za/2=Zcrit=+-1.96 Для данного значения статистики в таблице уровня значимости соответствует критическое значение Z=1.645. Принимаем решение о приеме/отклонении нулевой гипотезы: 2.5>1.645  отклоняем нулевую гипотезу и принимаем альтернативную.\n",
    "\n",
    "Вывод: На основе полученных результатов мы можем сделать вывод, что средний диаметр шариков для подшипников, изготовленных автоматическим станком, не равен 17 мм."
   ]
  },
  {
   "cell_type": "code",
   "execution_count": 24,
   "metadata": {},
   "outputs": [],
   "source": [
    "# Параметры для проверки гипотезы\n",
    "mu = 17 # средний диаметр\n",
    "d = 17.5 # значение среднего диаметра в выборке\n",
    "sigma = 4 # стандартное отклонение\n",
    "n = 100 # размер выборки\n",
    "alpha = 0.05 # уровень значимости\n"
   ]
  },
  {
   "cell_type": "code",
   "execution_count": 33,
   "metadata": {},
   "outputs": [
    {
     "data": {
      "text/plain": [
       "2.5"
      ]
     },
     "execution_count": 33,
     "metadata": {},
     "output_type": "execute_result"
    }
   ],
   "source": [
    "z = (17.5 - 17)/(2 / np.sqrt(100))\n",
    "z"
   ]
  },
  {
   "cell_type": "code",
   "execution_count": 40,
   "metadata": {},
   "outputs": [
    {
     "data": {
      "text/plain": [
       "1.6448536269514722"
      ]
     },
     "execution_count": 40,
     "metadata": {},
     "output_type": "execute_result"
    }
   ],
   "source": [
    "alpha = 0.05\n",
    "alpha= stats.norm.ppf(1 - alpha)\n",
    "alpha"
   ]
  },
  {
   "cell_type": "markdown",
   "metadata": {},
   "source": [
    "3)Проведите тест гипотезы. Продавец утверждает, что средний вес пачки печенья составляет 200 г.\n",
    "Из партии извлечена выборка из 10 пачек. Вес каждой пачки составляет:\n",
    "202, 203, 199, 197, 195, 201, 200, 204, 194, 190.\n",
    "Известно, что их веса распределены нормально."
   ]
  },
  {
   "cell_type": "markdown",
   "metadata": {},
   "source": [
    "Для проверки гипотезы будем использовать критерий Стьюдента, так как не известна сигмы генеральной совокупности.\n",
    "Формулируем нулевую и альтернативную гипотезы:"
   ]
  },
  {
   "cell_type": "code",
   "execution_count": 47,
   "metadata": {},
   "outputs": [],
   "source": [
    "# Параметры для проверки гипотезы\n",
    "mu = 200 # средний вес пачки\n",
    "n = 10 # размер выборки\n",
    "alpha = 0.05 # уровень значимости"
   ]
  },
  {
   "cell_type": "code",
   "execution_count": 60,
   "metadata": {},
   "outputs": [
    {
     "data": {
      "text/plain": [
       "3.2498355440153697"
      ]
     },
     "execution_count": 60,
     "metadata": {},
     "output_type": "execute_result"
    }
   ],
   "source": [
    "n = np.array([202, 203, 199, 197, 195, 201, 200, 204, 194, 190])\n",
    "n_mean=n.mean()\n",
    "n_std = n.std(ddof = 1)\n",
    "fact = (n_mean - 200) / n_std * np.sqrt(len(n))\n",
    "stats.t.ppf(1 - 0.01 / 2, df = len(n) - 1)"
   ]
  },
  {
   "cell_type": "code",
   "execution_count": 59,
   "metadata": {},
   "outputs": [
    {
     "data": {
      "text/plain": [
       "-1.0651074037450896"
      ]
     },
     "execution_count": 59,
     "metadata": {},
     "output_type": "execute_result"
    }
   ],
   "source": [
    "t= (n_mean - 200) / n_std * np.sqrt(10)\n",
    "t\n",
    "# по таблице Стьюдента находим критическое"
   ]
  },
  {
   "cell_type": "markdown",
   "metadata": {},
   "source": [
    "\n",
    "Значение t не попадает в критическую область, таким образом, гипотезу H0(нулевая гипотеза) не опровергаем."
   ]
  },
  {
   "cell_type": "markdown",
   "metadata": {},
   "source": [
    "Верно ли утверждение продавца, если учитывать, что доверительная вероятность равна 99%? (Провести двусторонний тест.)\n",
    "\n",
    "Задачу 4 решать с помощью функции.\n",
    "\n",
    "4)Есть ли статистически значимые различия в росте дочерей?\n",
    "Рост матерей 172, 177, 158, 170, 178,175, 164, 160, 169\n",
    "Рост взрослых дочерей: 173, 175, 162, 174, 175, 168, 155, 170, 160"
   ]
  },
  {
   "cell_type": "markdown",
   "metadata": {},
   "source": [
    "alpha = 0,05%"
   ]
  },
  {
   "cell_type": "code",
   "execution_count": 45,
   "metadata": {},
   "outputs": [
    {
     "data": {
      "text/plain": [
       "TtestResult(statistic=0.559522990335608, pvalue=0.5911212354055175, df=8)"
      ]
     },
     "execution_count": 45,
     "metadata": {},
     "output_type": "execute_result"
    }
   ],
   "source": [
    "mothers = np.array([172, 177, 158, 170, 178, 175, 164, 160, 169])\n",
    "daughters= np.array([173, 175, 162, 174, 175, 168, 155, 170, 160])\n",
    "#Зависимая выборка\n",
    "stats.ttest_rel(mothers, daughters)"
   ]
  },
  {
   "cell_type": "markdown",
   "metadata": {},
   "source": [
    "pvalue > alpha значит статистически значимых различий не обнаружено"
   ]
  }
 ],
 "metadata": {
  "kernelspec": {
   "display_name": "Python 3",
   "language": "python",
   "name": "python3"
  },
  "language_info": {
   "codemirror_mode": {
    "name": "ipython",
    "version": 3
   },
   "file_extension": ".py",
   "mimetype": "text/x-python",
   "name": "python",
   "nbconvert_exporter": "python",
   "pygments_lexer": "ipython3",
   "version": "3.11.5"
  },
  "orig_nbformat": 4
 },
 "nbformat": 4,
 "nbformat_minor": 2
}
