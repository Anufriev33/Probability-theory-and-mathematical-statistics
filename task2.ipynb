{
 "cells": [
  {
   "cell_type": "markdown",
   "metadata": {},
   "source": [
    "## Задание № 1"
   ]
  },
  {
   "cell_type": "markdown",
   "metadata": {},
   "source": [
    "1. Вероятность того, что стрелок попадет в мишень, выстрелив один раз, равна 0.8. Стрелок выстрелил 100 раз. Найдите вероятность того, что стрелок попадет в цель ровно 85 раз."
   ]
  },
  {
   "cell_type": "markdown",
   "metadata": {},
   "source": [
    "## Решение "
   ]
  },
  {
   "cell_type": "code",
   "execution_count": 27,
   "metadata": {},
   "outputs": [],
   "source": [
    "import pandas as pd\n",
    "import numpy as np\n",
    "from math import factorial as fl\n",
    "from math import exp"
   ]
  },
  {
   "cell_type": "code",
   "execution_count": 22,
   "metadata": {},
   "outputs": [],
   "source": [
    "n=100\n",
    "k=85\n",
    "p= 0.8\n",
    "q=0.2"
   ]
  },
  {
   "cell_type": "code",
   "execution_count": 23,
   "metadata": {},
   "outputs": [
    {
     "name": "stdout",
     "output_type": "stream",
     "text": [
      "P =  0.0481\n"
     ]
    }
   ],
   "source": [
    "def bernulli(n, k, p):\n",
    "    comb=fl(n)/(fl(k)*fl(n-k))\n",
    "    return comb*(p**k)*(q)**(n-k)\n",
    "print(f'P = {bernulli(100,85,0.8): .4f}')"
   ]
  },
  {
   "cell_type": "markdown",
   "metadata": {},
   "source": [
    "## Задача 2\n",
    "Вероятность того, что лампочка перегорит в течение первого дня эксплуатации, равна 0.0004.\n",
    "В жилом комплексе после ремонта в один день включили 5000 новых лампочек.\n",
    "Какова вероятность, что ни одна из них не перегорит в первый день? Какова вероятность, что перегорят ровно две?"
   ]
  },
  {
   "cell_type": "code",
   "execution_count": 28,
   "metadata": {},
   "outputs": [],
   "source": [
    "m = 0\n",
    "p = 0.0004\n",
    "n = 5000\n",
    "lamb = p * n\n",
    "result = ((lamb ** m) / fl(m)) * exp(-lamb)"
   ]
  },
  {
   "cell_type": "code",
   "execution_count": 29,
   "metadata": {},
   "outputs": [
    {
     "name": "stdout",
     "output_type": "stream",
     "text": [
      "Какова вероятность, что ни одна из них не перегорит в первый день?\n",
      "Ответ: 0.1353352832366127\n"
     ]
    }
   ],
   "source": [
    "print(\"Какова вероятность, что ни одна из них не перегорит в первый день?\")\n",
    "print(f\"Ответ: {result}\")"
   ]
  },
  {
   "cell_type": "code",
   "execution_count": 31,
   "metadata": {},
   "outputs": [],
   "source": [
    "m=2\n",
    "result = ((lamb**m) / fl(m)) * exp(-lamb) "
   ]
  },
  {
   "cell_type": "code",
   "execution_count": 32,
   "metadata": {},
   "outputs": [
    {
     "name": "stdout",
     "output_type": "stream",
     "text": [
      "Какова вероятность, что перегорят ровно две?\n",
      "Ответ: 0.2706705664732254\n"
     ]
    }
   ],
   "source": [
    "print(\"Какова вероятность, что перегорят ровно две?\")\n",
    "print(f\"Ответ: {result}\")"
   ]
  },
  {
   "cell_type": "markdown",
   "metadata": {},
   "source": [
    "## Задача 3\n",
    "Монету подбросили 144 раза. Какова вероятность, что орел выпадет ровно 70 раз?"
   ]
  },
  {
   "cell_type": "code",
   "execution_count": 38,
   "metadata": {},
   "outputs": [],
   "source": [
    "def combinations(n, k):\n",
    "    return int(fl(n) / (fl(k) * fl(n - k)))"
   ]
  },
  {
   "cell_type": "code",
   "execution_count": 39,
   "metadata": {},
   "outputs": [],
   "source": [
    "n = 144\n",
    "p = 0.5\n",
    "k = 70\n",
    "q = 1 - p\n",
    "result = combinations(n, k) * (p ** k) * (q ** (n-k)) "
   ]
  },
  {
   "cell_type": "code",
   "execution_count": 42,
   "metadata": {},
   "outputs": [
    {
     "name": "stdout",
     "output_type": "stream",
     "text": [
      "Какова вероятность, что орел выпадет ровно 70 раз?\n",
      "Ответ:  0.0628\n"
     ]
    }
   ],
   "source": [
    "print(\"Какова вероятность, что орел выпадет ровно 70 раз?\")\n",
    "print(f\"Ответ: {result: .4f}\")"
   ]
  },
  {
   "cell_type": "markdown",
   "metadata": {},
   "source": [
    "## Задача 4\n",
    "В первом ящике находится 10 мячей, из которых 7 - белые.\n",
    "Во втором ящике - 11 мячей, из которых 9 белых.\n",
    "\n",
    "Из каждого ящика вытаскивают случайным образом по два мяча.\n",
    "Какова вероятность того, что все мячи белые?\n",
    "Какова вероятность того, что ровно два мяча белые?\n",
    "Какова вероятность того, что хотя бы один мяч белый?"
   ]
  },
  {
   "cell_type": "code",
   "execution_count": 43,
   "metadata": {},
   "outputs": [],
   "source": [
    "p1 = combinations(7, 2) / combinations(10, 2)\n",
    "p2 = combinations(9, 2) / combinations(11, 2)\n",
    "result = p1 * p2"
   ]
  },
  {
   "cell_type": "code",
   "execution_count": 47,
   "metadata": {},
   "outputs": [
    {
     "name": "stdout",
     "output_type": "stream",
     "text": [
      " Какова вероятность того, что все мячи белые?\n",
      "Ответ:  0.3055\n"
     ]
    }
   ],
   "source": [
    "print(\" Какова вероятность того, что все мячи белые?\")\n",
    "print(f\"Ответ: {result: .4f}\")"
   ]
  },
  {
   "cell_type": "code",
   "execution_count": 48,
   "metadata": {},
   "outputs": [],
   "source": [
    "p1 = (combinations(7, 2) / combinations(10, 2)) * (combinations(2, 2) / combinations(11, 2))\n",
    "p2 = (combinations(7, 1) * combinations(3, 1) / combinations(10, 2)) * (combinations(9, 1) * combinations(2, 1) / combinations(11, 2))\n",
    "p3 = (combinations(3, 2) / combinations(10, 2)) * (combinations(9, 2) / combinations(11, 2))\n",
    "result = p1 + p2 + p3"
   ]
  },
  {
   "cell_type": "code",
   "execution_count": 50,
   "metadata": {},
   "outputs": [
    {
     "name": "stdout",
     "output_type": "stream",
     "text": [
      "Какова вероятность того, что ровно два мяча белые?\n",
      "Ответ:  0.2048\n"
     ]
    }
   ],
   "source": [
    "print(\"Какова вероятность того, что ровно два мяча белые?\")\n",
    "print(f\"Ответ: {result: .4f}\")"
   ]
  },
  {
   "cell_type": "code",
   "execution_count": null,
   "metadata": {},
   "outputs": [],
   "source": [
    "p1=combinations(3, 2)/combinations(10, 2)\n",
    "p2=combinations(2, 2)/combinations(11, 2)\n",
    "result = 1 - (p1 * p2)"
   ]
  },
  {
   "cell_type": "code",
   "execution_count": 51,
   "metadata": {},
   "outputs": [
    {
     "name": "stdout",
     "output_type": "stream",
     "text": [
      "Какова вероятность того, что хотя бы один мяч  белый?\n",
      "Ответ:  0.2048\n"
     ]
    }
   ],
   "source": [
    "print(\"Какова вероятность того, что хотя бы один мяч  белый?\")\n",
    "print(f\"Ответ: {result: .4f}\")"
   ]
  }
 ],
 "metadata": {
  "kernelspec": {
   "display_name": "Python 3",
   "language": "python",
   "name": "python3"
  },
  "language_info": {
   "codemirror_mode": {
    "name": "ipython",
    "version": 3
   },
   "file_extension": ".py",
   "mimetype": "text/x-python",
   "name": "python",
   "nbconvert_exporter": "python",
   "pygments_lexer": "ipython3",
   "version": "3.11.5"
  },
  "orig_nbformat": 4
 },
 "nbformat": 4,
 "nbformat_minor": 2
}
