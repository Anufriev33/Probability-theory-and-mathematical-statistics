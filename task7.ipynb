{
 "cells": [
  {
   "cell_type": "markdown",
   "metadata": {},
   "source": [
    "## Урок 7. Непараметрические тесты"
   ]
  },
  {
   "cell_type": "markdown",
   "metadata": {},
   "source": [
    "Выбрать тест и проверить, есть  ли различия между выборками:"
   ]
  },
  {
   "cell_type": "markdown",
   "metadata": {},
   "source": [
    "* 1-4 задачи решать с помощью функций, 5ю вручную\n",
    "Выбрать тест и проверить, есть  ли различия между выборками:"
   ]
  },
  {
   "cell_type": "markdown",
   "metadata": {},
   "source": [
    "1.  Даны две  независимые выборки. Не соблюдается условие нормальности\n",
    "x1  380,420, 290\n",
    "y1 140,360,200,900\n",
    "\n",
    "Сделайте вывод по результатам, полученным с помощью функции"
   ]
  },
  {
   "cell_type": "code",
   "execution_count": 51,
   "metadata": {},
   "outputs": [],
   "source": [
    "import numpy as np\n",
    "from scipy import stats"
   ]
  },
  {
   "cell_type": "markdown",
   "metadata": {},
   "source": [
    "* Критерий Манна – Уитни , выборки очень маленького объема.Не соблюдается условие нормальности"
   ]
  },
  {
   "cell_type": "code",
   "execution_count": 52,
   "metadata": {},
   "outputs": [
    {
     "name": "stdout",
     "output_type": "stream",
     "text": [
      "MannwhitneyuResult(statistic=8.0, pvalue=0.6285714285714286)\n"
     ]
    }
   ],
   "source": [
    "x=(380, 420, 290)\n",
    "y= (140, 360, 200 ,900)\n",
    "print(stats.mannwhitneyu (x, y))\n",
    "#pv>0.05(alpha)\n",
    "#Cтатистически значимых различий нет, нулевая гипотеза не отвергается."
   ]
  },
  {
   "cell_type": "markdown",
   "metadata": {},
   "source": [
    "2. Исследовалось влияние препарата на уровень давления пациентов. Сначала измерялось давление до приема препарата, потом через 10 минут и через 30 минут. Есть ли статистически значимые различия?"
   ]
  },
  {
   "cell_type": "markdown",
   "metadata": {},
   "source": [
    "* 1е измерение до приема препарата: 150, 160, 165, 145, 155<br>\n",
    "* 2е измерение через 10 минут: 140, 155, 150,  130, 135<br>\n",
    "* 3е измерение через 30 минут: 130, 130, 120, 130, 125"
   ]
  },
  {
   "cell_type": "markdown",
   "metadata": {},
   "source": [
    "* Критерий Фридмана , применяем в случае повторных измерений и несоблюдения условий нормальности и равенства дисперсий в исследуемых выборках."
   ]
  },
  {
   "cell_type": "code",
   "execution_count": 53,
   "metadata": {},
   "outputs": [
    {
     "data": {
      "text/plain": [
       "FriedmanchisquareResult(statistic=9.578947368421062, pvalue=0.00831683351100441)"
      ]
     },
     "execution_count": 53,
     "metadata": {},
     "output_type": "execute_result"
    }
   ],
   "source": [
    "alpha=0.05\n",
    "x1=np.array([150, 160, 165, 145, 155])\n",
    "x2=np.array([140, 155, 150, 130, 135])\n",
    "x3=np.array([130, 130, 120, 130, 125])\n",
    "d=stats.friedmanchisquare(x1,x2,x3)\n",
    "d\n",
    "#pv<0.05(alpha)\n",
    "#Cтатистически значимые различия есть, нулевая гипотеза  отвергается, применяется альтернативная.Препарат влияет на уровень давления пациентов."
   ]
  },
  {
   "cell_type": "markdown",
   "metadata": {},
   "source": [
    "3. Сравните 1 и 2 е измерения, предполагая, что 3го измерения через 30 минут не было."
   ]
  },
  {
   "cell_type": "markdown",
   "metadata": {},
   "source": [
    "* Критерий Уилкоксона, используется для парных измерений, т.е. для зависимых выборок. "
   ]
  },
  {
   "cell_type": "code",
   "execution_count": 7,
   "metadata": {},
   "outputs": [
    {
     "data": {
      "text/plain": [
       "WilcoxonResult(statistic=0.0, pvalue=0.0625)"
      ]
     },
     "execution_count": 7,
     "metadata": {},
     "output_type": "execute_result"
    }
   ],
   "source": [
    "x1 = np.array([150, 160, 165, 145, 155])\n",
    "x2 = np.array([140, 155, 150, 130, 135])\n",
    "d=stats.wilcoxon(x1,x2)\n",
    "d\n",
    "#pv>0.05(alpha)\n",
    "#Cтатистически значимых различий нет, нулевая гипотеза не отвергается.Влияние препарата на уровень давления пациентов не обнаружено."
   ]
  },
  {
   "cell_type": "markdown",
   "metadata": {},
   "source": [
    "4) Даны 3 группы  учеников плавания.<br>\n",
    "В 1 группе время на дистанцию 50 м составляют:<br>\n",
    "56, 60, 62, 55, 71, 67, 59, 58, 64, 67,<br>\n",
    "Вторая группа : 57, 58, 69, 48, 72, 70, 68, 71, 50, 53<br>\n",
    "Третья группа: 57, 67, 49, 48, 47, 55, 66, 51, 54\n"
   ]
  },
  {
   "cell_type": "markdown",
   "metadata": {},
   "source": [
    "\n",
    "* Критерий Крускала –Уоллиса ,несколько независимых выборок,\n"
   ]
  },
  {
   "cell_type": "code",
   "execution_count": 6,
   "metadata": {},
   "outputs": [
    {
     "data": {
      "text/plain": [
       "KruskalResult(statistic=5.465564058257224, pvalue=0.06503809985904942)"
      ]
     },
     "execution_count": 6,
     "metadata": {},
     "output_type": "execute_result"
    }
   ],
   "source": [
    "x1 = np.array([56, 60, 62, 55, 71, 67, 59, 58, 64, 67])\n",
    "x2 = np.array([57, 58, 69, 48, 72, 70, 68, 71, 50, 53])\n",
    "x3 = np.array([57, 67, 49, 48, 47, 55, 66, 51, 54])\n",
    "d=stats.kruskal(x1,x2,x3)\n",
    "#pv<0.05(alpha)\n",
    "#Cтатистически значимые различия нет, нулевая гипотеза не отвергается."
   ]
  },
  {
   "cell_type": "markdown",
   "metadata": {},
   "source": [
    "5) Заявляется, что партия изготавливается со средним арифметическим 2,5 см. Проверить данную гипотезу, если известно, что размеры изделий подчинены нормальному закону распределения. Объем выборки 10, уровень статистической значимости 5%\n",
    "\n",
    "2.51, 2.35, 2.74, 2.56, 2.40, 2.36, 2.65, 2.7, 2.67, 2.34"
   ]
  },
  {
   "cell_type": "code",
   "execution_count": 17,
   "metadata": {},
   "outputs": [],
   "source": [
    "x= np.array ([2.51, 2.35, 2.74, 2.56, 2.40, 2.36, 2.65, 2.7, 2.67, 2.34])"
   ]
  },
  {
   "cell_type": "code",
   "execution_count": 48,
   "metadata": {},
   "outputs": [
    {
     "name": "stdout",
     "output_type": "stream",
     "text": [
      "среднее арифметическое размеров изделий в выборке 2.5279999999999996\n",
      "стандартное отклонение 0.1572542173961923\n"
     ]
    }
   ],
   "source": [
    "mean = np.mean(x)\n",
    "std = np.std((x), ddof=1)\n",
    "print(f'среднее арифметическое размеров изделий в выборке {mean}')\n",
    "print(f'стандартное отклонение {std}')"
   ]
  },
  {
   "cell_type": "code",
   "execution_count": 50,
   "metadata": {},
   "outputs": [
    {
     "data": {
      "text/plain": [
       "0.563061366180296"
      ]
     },
     "execution_count": 50,
     "metadata": {},
     "output_type": "execute_result"
    }
   ],
   "source": [
    "t= (mean - 2.5)/ std* np.sqrt(len(x))  #  t-статистика\n",
    "t"
   ]
  },
  {
   "cell_type": "code",
   "execution_count": 49,
   "metadata": {},
   "outputs": [
    {
     "data": {
      "text/plain": [
       "1.8331129326536333"
      ]
     },
     "execution_count": 49,
     "metadata": {},
     "output_type": "execute_result"
    }
   ],
   "source": [
    "t_critical = stats.t.ppf(1 - alpha, len(x)-1) # по таблице Стьюдента находим критическое\n",
    "t_critical"
   ]
  },
  {
   "cell_type": "markdown",
   "metadata": {},
   "source": [
    "t-статистика < t-критическое   \n",
    "Нулевая гипотеза не отвергается, партия изготавливается со средним арифметическим 2,5 см.\""
   ]
  }
 ],
 "metadata": {
  "kernelspec": {
   "display_name": "Python 3",
   "language": "python",
   "name": "python3"
  },
  "language_info": {
   "codemirror_mode": {
    "name": "ipython",
    "version": 3
   },
   "file_extension": ".py",
   "mimetype": "text/x-python",
   "name": "python",
   "nbconvert_exporter": "python",
   "pygments_lexer": "ipython3",
   "version": "3.11.5"
  },
  "orig_nbformat": 4
 },
 "nbformat": 4,
 "nbformat_minor": 2
}
