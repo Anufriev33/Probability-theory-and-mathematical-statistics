{
 "cells": [
  {
   "cell_type": "markdown",
   "metadata": {},
   "source": [
    "## Задача №1<br>\n",
    "Случайная непрерывная величина A имеет равномерное распределение на промежутке (200, 800]. Найдите ее среднее значение и дисперсию."
   ]
  },
  {
   "cell_type": "code",
   "execution_count": 1,
   "metadata": {},
   "outputs": [],
   "source": [
    "import numpy as np"
   ]
  },
  {
   "cell_type": "code",
   "execution_count": 2,
   "metadata": {},
   "outputs": [
    {
     "name": "stdout",
     "output_type": "stream",
     "text": [
      "Среднее значение : 500\n"
     ]
    }
   ],
   "source": [
    "data = (200, 800)\n",
    "a=200\n",
    "b=800\n",
    "c=(a+b)/2\n",
    "print(f'Среднее значение : {c:.0f}')"
   ]
  },
  {
   "cell_type": "code",
   "execution_count": 3,
   "metadata": {},
   "outputs": [
    {
     "name": "stdout",
     "output_type": "stream",
     "text": [
      "Дисперсия : 30000\n"
     ]
    }
   ],
   "source": [
    "ds = (b-a)**2 /12\n",
    "print(f'Дисперсия : {ds:.0f}')"
   ]
  },
  {
   "cell_type": "markdown",
   "metadata": {},
   "source": [
    "## Задача №2<br>"
   ]
  },
  {
   "cell_type": "markdown",
   "metadata": {},
   "source": [
    "О случайной непрерывной равномерно распределенной величине B известно, что ее дисперсия равна 0.2. Можно ли найти правую границу величины B и ее среднее значение зная, что левая граница равна 0.5? Если да, найдите ее."
   ]
  },
  {
   "cell_type": "code",
   "execution_count": 4,
   "metadata": {},
   "outputs": [
    {
     "name": "stdout",
     "output_type": "stream",
     "text": [
      "Right_border = 2.05\n"
     ]
    }
   ],
   "source": [
    "left_border = 0.5\n",
    "ds = 0.2\n",
    "right = left_border+(ds*12)**(1/2) \n",
    "print(f'Right_border = {right:.2f}')"
   ]
  },
  {
   "cell_type": "code",
   "execution_count": 6,
   "metadata": {},
   "outputs": [
    {
     "name": "stdout",
     "output_type": "stream",
     "text": [
      "Average_value =  1.27\n"
     ]
    }
   ],
   "source": [
    "average_value = (left_border+right)/2\n",
    "print(f'Average_value = {average_value: .2f}')"
   ]
  },
  {
   "cell_type": "markdown",
   "metadata": {},
   "source": [
    "## Задача №3<br>"
   ]
  },
  {
   "cell_type": "markdown",
   "metadata": {},
   "source": [
    "Непрерывная случайная величина X распределена нормально и задана плотностью распределения f(x) = (1 / (4 * sqrt(2pi))) * exp((-(x+2)**2) / 32)\n",
    "\n",
    "Найдите:Непрерывная случайная величина X распределена нормально и задана плотностью распределения f(x) = (1 / (4 * sqrt(2pi))) * exp((-(x+2)**2) / 32)\n",
    "\n",
    "Найдите:<br>\n",
    "а). M(X)<br>\n",
    "б). D(X)<br>\n",
    "в). std(X) (среднее квадратичное отклонение)\n"
   ]
  },
  {
   "cell_type": "code",
   "execution_count": 7,
   "metadata": {},
   "outputs": [],
   "source": [
    "#M(x)=а=-2 согласно формуле."
   ]
  },
  {
   "cell_type": "code",
   "execution_count": 12,
   "metadata": {},
   "outputs": [
    {
     "name": "stdout",
     "output_type": "stream",
     "text": [
      "Дисперсия = 16\n"
     ]
    }
   ],
   "source": [
    "#D(X)=sigma**2\n",
    "dx=4**2    \n",
    "print(f\"Дисперсия = {dx}\")"
   ]
  },
  {
   "cell_type": "code",
   "execution_count": null,
   "metadata": {},
   "outputs": [],
   "source": [
    "#std(X) (среднее квадратичное отклонение) - это sigma \n",
    "#sigma =4 \n",
    "#std(X)=4"
   ]
  },
  {
   "cell_type": "markdown",
   "metadata": {},
   "source": [
    "## Задача №4<br>"
   ]
  },
  {
   "cell_type": "markdown",
   "metadata": {},
   "source": [
    "4. Рост взрослого населения города X имеет нормальное распределение.\n",
    "Причем, средний рост равен 174 см, а среднее квадратичное отклонение равно 8 см.\n",
    "\n",
    "Какова вероятность того, что случайным образом выбранный взрослый человек имеет рост:<br>\n",
    "а). больше 182 см<br>\n",
    "б). больше 190 см<br>\n",
    "в). от 166 см до 190 см<br>\n",
    "г). от 166 см до 182 см<br>\n",
    "д). от 158 см до 190 см<br>\n",
    "д). от 158 см до 190 см<br>\n",
    "е). не выше 150 см или не ниже 190 см<br>\n",
    "ё). не выше 150 см или не ниже 198 см<br>\n",
    "ж). ниже 166 см."
   ]
  },
  {
   "cell_type": "code",
   "execution_count": 18,
   "metadata": {},
   "outputs": [],
   "source": [
    "from scipy.stats import  norm\n"
   ]
  },
  {
   "cell_type": "code",
   "execution_count": 26,
   "metadata": {},
   "outputs": [],
   "source": [
    "#mu = 174\n",
    "#sigma = 8\n",
    "#result1 от a до ж\n",
    "#pa = 1-norm.cdf(a, mu, sigma)\n"
   ]
  },
  {
   "cell_type": "code",
   "execution_count": 23,
   "metadata": {},
   "outputs": [],
   "source": [
    "hight = norm(loc=174, scale=8)\n",
    "result1 = 1 - hight.cdf(182)\n",
    "result2 = 1 - hight.cdf(190)\n",
    "result3 = hight.cdf(190)-hight.cdf(166)\n",
    "result4 = hight.cdf(182)-hight.cdf(166)\n",
    "result5 = hight.cdf(190)-hight.cdf(158)\n",
    "result6 = hight.cdf(150) + (1 - hight.cdf(190))\n",
    "result7 = hight.cdf(150) + (1 - hight.cdf(198))\n",
    "result8 = hight.cdf(166)"
   ]
  },
  {
   "cell_type": "code",
   "execution_count": 25,
   "metadata": {},
   "outputs": [
    {
     "name": "stdout",
     "output_type": "stream",
     "text": [
      "а)Вероятность роста больше 182 см:  0.159\n",
      "б) Вероятность роста больше 190 см:  0.023\n",
      "в) Вероятность роста от 166 см до 190 см:  0.819\n",
      "г) Вероятность роста от 166 см до 182 см:  0.683\n",
      "д) Вероятность роста от 158 см до 190 см:  0.954\n",
      "е) Вероятность роста не выше 150 см или не ниже 190 см:  0.024\n",
      "ж) Вероятность роста не выше 150 см или не ниже 198 см:  0.003\n",
      "з) Вероятность роста ниже 166 см:  0.159\n"
     ]
    }
   ],
   "source": [
    "print(f\"а)Вероятность роста больше 182 см: {result1: .3f}\")\n",
    "print(f\"б) Вероятность роста больше 190 см: {result2: .3f}\")\n",
    "print(f\"в) Вероятность роста от 166 см до 190 см: {result3: .3f}\")\n",
    "print(f\"г) Вероятность роста от 166 см до 182 см: {result4: .3f}\")\n",
    "print(f\"д) Вероятность роста от 158 см до 190 см: {result5: .3f}\")\n",
    "print(f\"е) Вероятность роста не выше 150 см или не ниже 190 см: {result6: .3f}\")\n",
    "print(f\"ж) Вероятность роста не выше 150 см или не ниже 198 см: {result7: .3f}\")\n",
    "print(f\"з) Вероятность роста ниже 166 см: {result8: .3f}\")"
   ]
  },
  {
   "cell_type": "markdown",
   "metadata": {},
   "source": [
    "## Задача №5<br>"
   ]
  },
  {
   "cell_type": "markdown",
   "metadata": {},
   "source": [
    "5. На сколько сигм (средних квадратичных отклонений) отклоняется рост человека, равный 190 см, от математического ожидания роста в популяции, в которой M(X) = 178 см и D(X) = 25 кв.см?"
   ]
  },
  {
   "cell_type": "code",
   "execution_count": 28,
   "metadata": {},
   "outputs": [],
   "source": [
    "from math import sqrt"
   ]
  },
  {
   "cell_type": "code",
   "execution_count": 30,
   "metadata": {},
   "outputs": [
    {
     "name": "stdout",
     "output_type": "stream",
     "text": [
      "На 2.4 сигм отклоняется от математического ожидания рост в популяции.\n"
     ]
    }
   ],
   "source": [
    "growth = 190\n",
    "mx = 178\n",
    "dx = 25\n",
    "std = sqrt(dx)\n",
    "sigma = (growth-mx)/std\n",
    "print(f'На {sigma} сигм отклоняется от математического ожидания рост в популяции.')"
   ]
  }
 ],
 "metadata": {
  "kernelspec": {
   "display_name": "Python 3",
   "language": "python",
   "name": "python3"
  },
  "language_info": {
   "codemirror_mode": {
    "name": "ipython",
    "version": 3
   },
   "file_extension": ".py",
   "mimetype": "text/x-python",
   "name": "python",
   "nbconvert_exporter": "python",
   "pygments_lexer": "ipython3",
   "version": "3.11.5"
  },
  "orig_nbformat": 4
 },
 "nbformat": 4,
 "nbformat_minor": 2
}
