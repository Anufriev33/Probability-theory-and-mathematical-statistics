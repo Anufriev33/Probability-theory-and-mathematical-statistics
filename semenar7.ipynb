{
 "cells": [
  {
   "cell_type": "markdown",
   "metadata": {},
   "source": [
    "Исследование: врачи делают назначения. Считалась сумма назначенных препаратов. После врача\n",
    "ознакомили с суммами препаратов, назначенных коллегами.\n",
    "Средние расходы на обследование одного больного до и после ознакомления с расходами коллег\n",
    "X= np.array([20,17, 14, 42, 50, 62, 8, 49, 81, 54, 48, 55, 56])\n",
    "Y= np.array ([20, 26, 1, 24, 1, 47, 15, 7, 65, 9, 21, 36, 30])\n",
    "Средние расходы на лечение одного больного до и после ознакомления с расходами коллег\n",
    "X= np.array([ 32, 41, 51, 29, 76, 47, 60, 58, 40, 64, 73, 66, 73])\n",
    "Y= np.array ([42, 90, 71, 47, 56, 43, 137, 63, 28, 60, 87, 69, 50])\n",
    "Произошли ли изменения на обследование и лечение"
   ]
  },
  {
   "cell_type": "code",
   "execution_count": 5,
   "metadata": {},
   "outputs": [],
   "source": [
    "import scipy as sc\n",
    "import numpy as np\n",
    "from scipy import stats\n",
    "\n"
   ]
  },
  {
   "cell_type": "code",
   "execution_count": 14,
   "metadata": {},
   "outputs": [
    {
     "name": "stdout",
     "output_type": "stream",
     "text": [
      "Альтернативная  гипотеза, изменения произошли:WilcoxonResult(statistic=3.0, pvalue=0.004741768038406971)\n",
      "[ 0 -9 13 18 49 15 -7 42 16 45 27 19 26]\n",
      "Нолевая гипотеза, изменения не произошли:WilcoxonResult(statistic=31.5, pvalue=0.339599609375)\n",
      "[-10 -49 -20 -18  20   4 -77  -5  12   4 -14  -3  23]\n"
     ]
    }
   ],
   "source": [
    "X= np.array([20,17, 14, 42, 50, 62, 8, 49, 81, 54, 48, 55, 56])\n",
    "Y= np.array ([20, 26, 1, 24, 1, 47, 15, 7, 65, 9, 21, 36, 30])\n",
    "print(f'Альтернативная  гипотеза, изменения произошли:{stats.wilcoxon (X , Y)}')\n",
    "print(X - Y)\n",
    "#pv < alfa 5%\n",
    "#Средние расходы на лечение одного больного до ознакомления с расходами коллег\n",
    "X= np.array([ 32, 41, 51, 29, 76, 47, 60, 58, 40, 64, 73, 66, 73])\n",
    "Y= np.array ([42, 90, 71, 47, 56, 43, 137, 63, 28, 60, 87, 69, 50])\n",
    "print(f'Нолевая гипотеза, изменения не произошли:{stats.wilcoxon (X , Y)}')\n",
    "#pv> alfa 5% \n",
    "print(X - Y)"
   ]
  },
  {
   "cell_type": "markdown",
   "metadata": {},
   "source": []
  },
  {
   "cell_type": "code",
   "execution_count": 16,
   "metadata": {},
   "outputs": [],
   "source": [
    "A= np.array([3.5, 3.3, 4.9, 3.6])\n",
    "B= np.array([8.6, 5.4, 8.8, 5.6])\n",
    "C=np.array([5.1, 8.6, 7.7, 5.0])"
   ]
  },
  {
   "cell_type": "code",
   "execution_count": 17,
   "metadata": {},
   "outputs": [
    {
     "data": {
      "text/plain": [
       "FriedmanchisquareResult(statistic=6.5, pvalue=0.03877420783172202)"
      ]
     },
     "execution_count": 17,
     "metadata": {},
     "output_type": "execute_result"
    }
   ],
   "source": [
    "stats.friedmanchisquare(A, B, C)\n",
    "#pv> alfa 5% "
   ]
  },
  {
   "cell_type": "code",
   "execution_count": 19,
   "metadata": {},
   "outputs": [],
   "source": [
    "gr1 =([0.5, 0.7, 1, 1.2, 1.4])\n",
    "gr2 = ([1.3, 1.45, 1.6, 1.7, 1.8])\n",
    "gr3 = ([6.2, 12.6, 13.2, 14.1, 14.2])"
   ]
  },
  {
   "cell_type": "code",
   "execution_count": 21,
   "metadata": {},
   "outputs": [
    {
     "data": {
      "text/plain": [
       "KruskalResult(statistic=12.02000000000001, pvalue=0.002454088180413905)"
      ]
     },
     "execution_count": 21,
     "metadata": {},
     "output_type": "execute_result"
    }
   ],
   "source": [
    "stats.kruskal (gr1,gr2,gr3)"
   ]
  }
 ],
 "metadata": {
  "kernelspec": {
   "display_name": "Python 3",
   "language": "python",
   "name": "python3"
  },
  "language_info": {
   "codemirror_mode": {
    "name": "ipython",
    "version": 3
   },
   "file_extension": ".py",
   "mimetype": "text/x-python",
   "name": "python",
   "nbconvert_exporter": "python",
   "pygments_lexer": "ipython3",
   "version": "3.11.5"
  },
  "orig_nbformat": 4
 },
 "nbformat": 4,
 "nbformat_minor": 2
}
