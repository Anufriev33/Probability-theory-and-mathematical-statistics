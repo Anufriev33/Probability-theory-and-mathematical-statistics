{
 "cells": [
  {
   "cell_type": "markdown",
   "metadata": {},
   "source": [
    "### Урок 3. EDA (exploratory data analysis) или Разведочный анализ\n",
    "Задача 1\n",
    "Даны значения зарплат из выборки выпускников: 100, 80, 75, 77, 89, 33, 45, 25, 65, 17, 30, 24, 57, 55, 70, 75, 65, 84, 90, 150.\n",
    "Посчитать (желательно без использования статистических методов наподобие std, var, mean)\n",
    "среднее арифметическое, среднее квадратичное отклонение, смещенную и несмещенную оценки дисперсий для данной выборки.\n"
   ]
  },
  {
   "cell_type": "code",
   "execution_count": 65,
   "metadata": {},
   "outputs": [],
   "source": [
    "import numpy as np"
   ]
  },
  {
   "cell_type": "code",
   "execution_count": 29,
   "metadata": {},
   "outputs": [
    {
     "name": "stdout",
     "output_type": "stream",
     "text": [
      "среднее арифметическое: 65.3\n"
     ]
    }
   ],
   "source": [
    "salary = [100, 80, 75, 77, 89, 33, 45, 25, 65, 17, 30, 24, 57, 55, 70, 75, 65, 84, 90, 150]\n",
    "arithmetic = sum(salary)/len(salary)\n",
    "print(f\"среднее арифметическое: {arithmetic}\")"
   ]
  },
  {
   "cell_type": "code",
   "execution_count": 64,
   "metadata": {},
   "outputs": [
    {
     "name": "stdout",
     "output_type": "stream",
     "text": [
      "65.3\n"
     ]
    }
   ],
   "source": [
    "arithmetic= np.mean(salary)\n",
    "print(arithmetic)"
   ]
  },
  {
   "cell_type": "code",
   "execution_count": 73,
   "metadata": {},
   "outputs": [
    {
     "name": "stdout",
     "output_type": "stream",
     "text": [
      "смещенная оценки дисперсий: 950.11\n"
     ]
    }
   ],
   "source": [
    "ds = 0\n",
    "for i in salary:\n",
    "  ds += (i - arithmetic) ** 2\n",
    "ds1 = ds / len(salary)\n",
    "print(f\"смещенная оценки дисперсий: {ds1}\")"
   ]
  },
  {
   "cell_type": "code",
   "execution_count": 83,
   "metadata": {},
   "outputs": [
    {
     "name": "stdout",
     "output_type": "stream",
     "text": [
      "950.11\n"
     ]
    }
   ],
   "source": [
    "#проверка\n",
    "std1=np.var(salary)\n",
    "print(std1)"
   ]
  },
  {
   "cell_type": "code",
   "execution_count": 86,
   "metadata": {},
   "outputs": [
    {
     "name": "stdout",
     "output_type": "stream",
     "text": [
      "1000.1157894736842\n"
     ]
    }
   ],
   "source": [
    "#проверка\n",
    "ds= np.var(salary, ddof=1)\n",
    "print(ds)"
   ]
  },
  {
   "cell_type": "code",
   "execution_count": 71,
   "metadata": {},
   "outputs": [
    {
     "name": "stdout",
     "output_type": "stream",
     "text": [
      "несмещенная оценки дисперсий: 1000.1157894736842\n"
     ]
    }
   ],
   "source": [
    "ds=0\n",
    "for i in salary:\n",
    "  ds += (i - arithmetic) ** 2\n",
    "result = ds / (len(salary) - 1)\n",
    "print(f\"несмещенная оценки дисперсий: {result}\")"
   ]
  },
  {
   "cell_type": "code",
   "execution_count": 82,
   "metadata": {},
   "outputs": [
    {
     "name": "stdout",
     "output_type": "stream",
     "text": [
      "среднее квадратичное отклонение: 30.823854398825596\n"
     ]
    }
   ],
   "source": [
    "result = ds1 **0.5\n",
    "print(f\"среднее квадратичное отклонение: {result}\")"
   ]
  },
  {
   "cell_type": "code",
   "execution_count": 84,
   "metadata": {},
   "outputs": [
    {
     "name": "stdout",
     "output_type": "stream",
     "text": [
      "30.823854398825596\n"
     ]
    }
   ],
   "source": [
    "#проверка\n",
    "std1=np.std(salary)\n",
    "print(std1)"
   ]
  },
  {
   "cell_type": "markdown",
   "metadata": {},
   "source": [
    "### Задача 2\n",
    "В первом ящике находится 8 мячей, из которых 5 - белые. Во втором ящике - 12 мячей, из которых 5 белых.<br>\n",
    "Из первого ящика вытаскивают случайным образом два мяча, из второго - 4.<br>\n",
    "Какова вероятность того, что 3 мяча белые?"
   ]
  },
  {
   "cell_type": "code",
   "execution_count": 48,
   "metadata": {},
   "outputs": [],
   "source": [
    "from math import factorial\n",
    "def combinations(n, k):\n",
    "    return (factorial(n) / (factorial(k) * factorial(n - k)))"
   ]
  },
  {
   "cell_type": "code",
   "execution_count": 49,
   "metadata": {},
   "outputs": [
    {
     "name": "stdout",
     "output_type": "stream",
     "text": [
      "Какова вероятность того, что 3 мяча белые?\n",
      "Ответ: 0.369\n"
     ]
    }
   ],
   "source": [
    "p1 = combinations(5, 2) / combinations(8, 2) * combinations(5, 1) * combinations(7, 3) / combinations(12, 4)\n",
    "p2 = combinations(5, 1) * combinations(3, 1) / combinations(8, 2) * combinations(5, 2) * combinations(7, 2) / combinations(12, 4)\n",
    "p3 = combinations(3, 2) / combinations(8, 2) * combinations(5, 3) * combinations(7, 1) / combinations(12, 4)\n",
    "result = round(p1 + p2 + p3,3)\n",
    "print(\"Какова вероятность того, что 3 мяча белые?\")\n",
    "print(f\"Ответ: {result}\")"
   ]
  },
  {
   "cell_type": "markdown",
   "metadata": {},
   "source": [
    "### Задача 3\n",
    "На соревновании по биатлону один из трех спортсменов стреляет и попадает в мишень.\n",
    "Вероятность попадания для первого спортсмена равна 0.9, для второго — 0.8, для третьего — 0.6.\n",
    "Найти вероятность того, что выстрел произведен:<br>\n",
    "a) первым спортсменом<br>\n",
    "б) вторым спортсменом<br>\n",
    "в) третьим спортсменом"
   ]
  },
  {
   "cell_type": "code",
   "execution_count": 52,
   "metadata": {},
   "outputs": [
    {
     "name": "stdout",
     "output_type": "stream",
     "text": [
      "первым спортсменом: 0.391\n",
      "вторым спортсменом: 0.348\n",
      "третьим спортсменом: 0.261\n"
     ]
    }
   ],
   "source": [
    "p = 1/3 * 0.9 + 1/3 * 0.8 + 1/3 * 0.6\n",
    "\n",
    "result1 = round(1/3 * 0.9 / p,3)\n",
    "result2 = round(1/3 * 0.8 / p,3)\n",
    "result3 = round(1/3 * 0.6 / p,3)\n",
    "print(f\"первым спортсменом: {result1}\")\n",
    "print(f\"вторым спортсменом: {result2}\")\n",
    "print(f\"третьим спортсменом: {result3}\")"
   ]
  },
  {
   "cell_type": "markdown",
   "metadata": {},
   "source": [
    "### Задача 4\n",
    "В университет на факультеты A и B поступило равное количество студентов,\n",
    "а на факультет C студентов поступило столько же, сколько на A и B вместе.\n",
    "Вероятность того, что студент факультета A сдаст первую сессию, равна 0.8.\n",
    "Для студента факультета B эта вероятность равна 0.7, а для студента факультета C - 0.9.\n",
    "Студент сдал первую сессию. Какова вероятность, что он учится:<br>\n",
    "a). на факультете A<br>\n",
    "б). на факультете B<br>\n",
    "в). на факультете C?"
   ]
  },
  {
   "cell_type": "code",
   "execution_count": 53,
   "metadata": {},
   "outputs": [
    {
     "name": "stdout",
     "output_type": "stream",
     "text": [
      "первым спортсменом: 0.242\n",
      "вторым спортсменом: 0.212\n",
      "третьим спортсменом: 0.273\n"
     ]
    }
   ],
   "source": [
    "p = 1/4 * 0.8 + 1/4 * 0.7 + 2/4 * 0.9\n",
    "\n",
    "result1 =round(1/4 * 0.8 / p,3)\n",
    "result2 =round(1/4 * 0.7 / p,3)\n",
    "result3 =round(1/4 * 0.9 / p,3)\n",
    "print(f\"первым спортсменом: {result1}\")\n",
    "print(f\"вторым спортсменом: {result2}\")\n",
    "print(f\"третьим спортсменом: {result3}\")"
   ]
  },
  {
   "cell_type": "markdown",
   "metadata": {},
   "source": [
    "### Задача 5\n",
    "Устройство состоит из трех деталей.\n",
    "Для первой детали вероятность выйти из строя в первый месяц равна 0.1, для второй - 0.2, для третьей - 0.25.\n",
    "Какова вероятность того, что в первый месяц выйдут из строя:<br>\n",
    "а) все детали,<br>\n",
    "б) только две детали<br>\n",
    "в) хотя бы одна деталь<br>\n",
    "г) от одной до двух деталей?<br>\n"
   ]
  },
  {
   "cell_type": "code",
   "execution_count": 54,
   "metadata": {},
   "outputs": [
    {
     "name": "stdout",
     "output_type": "stream",
     "text": [
      "все детали: 0.005\n",
      "только две детали: 0.08\n",
      "хотя бы одна деталь: 0.46\n",
      "от одной до двух деталей: 0.455\n"
     ]
    }
   ],
   "source": [
    "p1 = 0.1\n",
    "p2 = 0.2\n",
    "p3 = 0.25\n",
    "\n",
    "q1 = 1 - p1\n",
    "q2 = 1 - p2\n",
    "q3 = 1 - p3\n",
    "\n",
    "\n",
    "result1 = round(p1 * p2 * p3,3)\n",
    "result2 = round(p1 * p2 * q3  +  p1 * q2 * p3  +  q1 * p2 * p3,3)\n",
    "result3 = round(1 - q1 * q2 * q3,3)\n",
    "result4 = round(p1 * q2 * q3  +  q1 * p2 * q3  +  q1 * q2 * p3 + result2,3)\n",
    "print(f\"все детали: {result1}\")\n",
    "print(f\"только две детали: {result2}\")\n",
    "print(f\"хотя бы одна деталь: {result3}\")\n",
    "print(f\"от одной до двух деталей: {result4}\")"
   ]
  }
 ],
 "metadata": {
  "kernelspec": {
   "display_name": "Python 3",
   "language": "python",
   "name": "python3"
  },
  "language_info": {
   "codemirror_mode": {
    "name": "ipython",
    "version": 3
   },
   "file_extension": ".py",
   "mimetype": "text/x-python",
   "name": "python",
   "nbconvert_exporter": "python",
   "pygments_lexer": "ipython3",
   "version": "3.11.5"
  },
  "orig_nbformat": 4
 },
 "nbformat": 4,
 "nbformat_minor": 2
}
