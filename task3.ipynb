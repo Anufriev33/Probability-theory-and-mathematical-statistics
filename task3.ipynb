{
 "cells": [
  {
   "cell_type": "markdown",
   "metadata": {},
   "source": [
    "### Урок 3. EDA (exploratory data analysis) или Разведочный анализ\n",
    "Задача 1\n",
    "Даны значения зарплат из выборки выпускников: 100, 80, 75, 77, 89, 33, 45, 25, 65, 17, 30, 24, 57, 55, 70, 75, 65, 84, 90, 150.\n",
    "Посчитать (желательно без использования статистических методов наподобие std, var, mean)\n",
    "среднее арифметическое, среднее квадратичное отклонение, смещенную и несмещенную оценки дисперсий для данной выборки.\n"
   ]
  },
  {
   "cell_type": "code",
   "execution_count": 3,
   "metadata": {},
   "outputs": [
    {
     "name": "stdout",
     "output_type": "stream",
     "text": [
      "среднее арифметическое: 65.3\n",
      "смещенная оценки дисперсий: 950.11\n",
      "несмещенная оценки дисперсий: 1000.1157894736842\n",
      "среднее квадратичное отклонение: 30.823854398825596\n"
     ]
    }
   ],
   "source": [
    "from math import factorial\n",
    "def combinations(n, k):\n",
    "    return int(factorial(n) / (factorial(k) * factorial(n - k)))\n",
    "salary = [100, 80, 75, 77, 89, 33, 45, 25, 65, 17, 30, 24, 57, 55, 70, 75, 65, 84, 90, 150]\n",
    "m = sum(salary)/len(salary)\n",
    "print(f\"среднее арифметическое: {m}\")\n",
    "\n",
    "ds = 0\n",
    "for i in salary:\n",
    "  ds += (i - m) ** 2\n",
    "ds1 = ds / len(salary)\n",
    "print(f\"смещенная оценки дисперсий: {ds1}\")\n",
    "\n",
    "ds = 0\n",
    "for i in salary:\n",
    "  ds += (i - m) ** 2\n",
    "result = ds / (len(salary) - 1)\n",
    "print(f\"несмещенная оценки дисперсий: {result}\")\n",
    "\n",
    "result = ds1 ** 0.5\n",
    "print(f\"среднее квадратичное отклонение: {result}\")"
   ]
  },
  {
   "cell_type": "code",
   "execution_count": null,
   "metadata": {},
   "outputs": [],
   "source": []
  },
  {
   "cell_type": "markdown",
   "metadata": {},
   "source": [
    "### Задача 2\n",
    "В первом ящике находится 8 мячей, из которых 5 - белые. Во втором ящике - 12 мячей, из которых 5 белых.<br>\n",
    "Из первого ящика вытаскивают случайным образом два мяча, из второго - 4.<br>\n",
    "Какова вероятность того, что 3 мяча белые?"
   ]
  },
  {
   "cell_type": "code",
   "execution_count": 5,
   "metadata": {},
   "outputs": [
    {
     "name": "stdout",
     "output_type": "stream",
     "text": [
      "Какова вероятность того, что 3 мяча белые?\n",
      "Ответ: 0.3686868686868686\n"
     ]
    }
   ],
   "source": [
    "p1 = combinations(5, 2) / combinations(8, 2) * combinations(5, 1) * combinations(7, 3) / combinations(12, 4)\n",
    "p2 = combinations(5, 1) * combinations(3, 1) / combinations(8, 2) * combinations(5, 2) * combinations(7, 2) / combinations(12, 4)\n",
    "p3 = combinations(3, 2) / combinations(8, 2) * combinations(5, 3) * combinations(7, 1) / combinations(12, 4)\n",
    "result = p1 + p2 + p3\n",
    "print(\"Какова вероятность того, что 3 мяча белые?\")\n",
    "print(f\"Ответ: {result}\")"
   ]
  },
  {
   "cell_type": "code",
   "execution_count": null,
   "metadata": {},
   "outputs": [],
   "source": []
  },
  {
   "cell_type": "markdown",
   "metadata": {},
   "source": [
    "### Задача 3\n",
    "На соревновании по биатлону один из трех спортсменов стреляет и попадает в мишень.\n",
    "Вероятность попадания для первого спортсмена равна 0.9, для второго — 0.8, для третьего — 0.6.\n",
    "Найти вероятность того, что выстрел произведен:<br>\n",
    "a) первым спортсменом<br>\n",
    "б) вторым спортсменом<br>\n",
    "в) третьим спортсменом"
   ]
  },
  {
   "cell_type": "code",
   "execution_count": 6,
   "metadata": {},
   "outputs": [
    {
     "name": "stdout",
     "output_type": "stream",
     "text": [
      "первым спортсменом: 0.391304347826087\n",
      "вторым спортсменом: 0.3478260869565218\n",
      "третьим спортсменом: 0.2608695652173913\n"
     ]
    }
   ],
   "source": [
    "p = 1/3 * 0.9 + 1/3 * 0.8 + 1/3 * 0.6\n",
    "\n",
    "result1 = 1/3 * 0.9 / p\n",
    "result2 = 1/3 * 0.8 / p\n",
    "result3 = 1/3 * 0.6 / p\n",
    "print(f\"первым спортсменом: {result1}\")\n",
    "print(f\"вторым спортсменом: {result2}\")\n",
    "print(f\"третьим спортсменом: {result3}\")"
   ]
  },
  {
   "cell_type": "code",
   "execution_count": null,
   "metadata": {},
   "outputs": [],
   "source": []
  },
  {
   "cell_type": "markdown",
   "metadata": {},
   "source": [
    "### Задача 4\n",
    "В университет на факультеты A и B поступило равное количество студентов,\n",
    "а на факультет C студентов поступило столько же, сколько на A и B вместе.\n",
    "Вероятность того, что студент факультета A сдаст первую сессию, равна 0.8.\n",
    "Для студента факультета B эта вероятность равна 0.7, а для студента факультета C - 0.9.\n",
    "Студент сдал первую сессию. Какова вероятность, что он учится:<br>\n",
    "a). на факультете A<br>\n",
    "б). на факультете B<br>\n",
    "в). на факультете C?"
   ]
  },
  {
   "cell_type": "code",
   "execution_count": 7,
   "metadata": {},
   "outputs": [
    {
     "name": "stdout",
     "output_type": "stream",
     "text": [
      "первым спортсменом: 0.24242424242424246\n",
      "вторым спортсменом: 0.21212121212121213\n",
      "третьим спортсменом: 0.5454545454545455\n"
     ]
    }
   ],
   "source": [
    "p = 1/4 * 0.8 + 1/4 * 0.7 + 2/4 * 0.9\n",
    "\n",
    "result1 = 1/4 * 0.8 / p\n",
    "result2 = 1/4 * 0.7 / p\n",
    "result3 = 2/4 * 0.9 / p\n",
    "print(f\"первым спортсменом: {result1}\")\n",
    "print(f\"вторым спортсменом: {result2}\")\n",
    "print(f\"третьим спортсменом: {result3}\")"
   ]
  },
  {
   "cell_type": "code",
   "execution_count": null,
   "metadata": {},
   "outputs": [],
   "source": []
  },
  {
   "cell_type": "markdown",
   "metadata": {},
   "source": [
    "### Задача 5\n",
    "Устройство состоит из трех деталей.\n",
    "Для первой детали вероятность выйти из строя в первый месяц равна 0.1, для второй - 0.2, для третьей - 0.25.\n",
    "Какова вероятность того, что в первый месяц выйдут из строя:\n",
    "а) все детали\n",
    "б) только две детали\n",
    "в) хотя бы одна деталь\n",
    "г) от одной до двух деталей?\n"
   ]
  },
  {
   "cell_type": "code",
   "execution_count": 8,
   "metadata": {},
   "outputs": [
    {
     "name": "stdout",
     "output_type": "stream",
     "text": [
      "все детали: 0.005000000000000001\n",
      "только две детали: 0.08000000000000002\n",
      "хотя бы одна деталь: 0.45999999999999996\n",
      "от одной до двух деталей: 0.455\n"
     ]
    }
   ],
   "source": [
    "p1 = 0.1\n",
    "p2 = 0.2\n",
    "p3 = 0.25\n",
    "\n",
    "q1 = 1 - p1\n",
    "q2 = 1 - p2\n",
    "q3 = 1 - p3\n",
    "\n",
    "\n",
    "result1 = p1 * p2 * p3\n",
    "result2 = p1 * p2 * q3  +  p1 * q2 * p3  +  q1 * p2 * p3\n",
    "result3 = 1 - q1 * q2 * q3\n",
    "result4 = p1 * q2 * q3  +  q1 * p2 * q3  +  q1 * q2 * p3 + result2\n",
    "print(f\"все детали: {result1}\")\n",
    "print(f\"только две детали: {result2}\")\n",
    "print(f\"хотя бы одна деталь: {result3}\")\n",
    "print(f\"от одной до двух деталей: {result4}\")"
   ]
  }
 ],
 "metadata": {
  "kernelspec": {
   "display_name": "Python 3",
   "language": "python",
   "name": "python3"
  },
  "language_info": {
   "codemirror_mode": {
    "name": "ipython",
    "version": 3
   },
   "file_extension": ".py",
   "mimetype": "text/x-python",
   "name": "python",
   "nbconvert_exporter": "python",
   "pygments_lexer": "ipython3",
   "version": "3.11.5"
  },
  "orig_nbformat": 4
 },
 "nbformat": 4,
 "nbformat_minor": 2
}
