{
 "cells": [
  {
   "cell_type": "markdown",
   "metadata": {},
   "source": [
    "Урок 9. Линейная регрессия Логистическая регрессия\n"
   ]
  },
  {
   "cell_type": "markdown",
   "metadata": {},
   "source": [
    "Даны значения величины заработной платы заемщиков банка (zp) и значения их поведенческого кредитного скоринга (ks): zp = [35, 45, 190, 200, 40, 70, 54, 150, 120, 110], ks = [401, 574, 874, 919, 459, 739, 653, 902, 746, 832]. Используя математические операции, посчитать коэффициенты линейной регрессии, приняв за X заработную плату (то есть, zp - признак), а за y - значения скорингового балла (то есть, ks - целевая переменная). Произвести расчет как с использованием intercept, так и без.\n"
   ]
  },
  {
   "cell_type": "code",
   "execution_count": 64,
   "metadata": {},
   "outputs": [],
   "source": [
    "import numpy as np\n",
    "import matplotlib.pyplot as plt\n",
    "from scipy import stats"
   ]
  },
  {
   "cell_type": "code",
   "execution_count": 40,
   "metadata": {},
   "outputs": [],
   "source": [
    "zp =np.array([35, 45, 190, 200, 40, 70, 54, 150, 120, 110])\n",
    "ks = np.array([401, 574, 874, 919, 459, 739, 653, 902, 746, 832])"
   ]
  },
  {
   "cell_type": "markdown",
   "metadata": {},
   "source": [
    "* Математические формулы с intercept:"
   ]
  },
  {
   "cell_type": "code",
   "execution_count": 41,
   "metadata": {},
   "outputs": [
    {
     "data": {
      "text/plain": [
       "2.6205388824027653"
      ]
     },
     "execution_count": 41,
     "metadata": {},
     "output_type": "execute_result"
    }
   ],
   "source": [
    "n=len(ks)\n",
    "b1=(n*np.sum(zp*ks)-np.sum(zp)*np.sum(ks))/(n*np.sum(zp**2)-np.sum(zp)**2)\n",
    "b1"
   ]
  },
  {
   "cell_type": "code",
   "execution_count": 43,
   "metadata": {},
   "outputs": [
    {
     "data": {
      "text/plain": [
       "444.17735732435955"
      ]
     },
     "execution_count": 43,
     "metadata": {},
     "output_type": "execute_result"
    }
   ],
   "source": [
    "b0 = np.mean(ks)-b1*np.mean(zp)\n",
    "b0"
   ]
  },
  {
   "cell_type": "code",
   "execution_count": 44,
   "metadata": {},
   "outputs": [
    {
     "data": {
      "text/plain": [
       "array([535.89621821, 562.10160703, 942.07974498, 968.2851338 ,\n",
       "       548.99891262, 627.61507909, 585.68645697, 837.25818968,\n",
       "       758.64202321, 732.43663439])"
      ]
     },
     "execution_count": 44,
     "metadata": {},
     "output_type": "execute_result"
    }
   ],
   "source": [
    "ks_pred = b0+b1*zp\n",
    "ks_pred"
   ]
  },
  {
   "cell_type": "code",
   "execution_count": 13,
   "metadata": {},
   "outputs": [
    {
     "data": {
      "text/plain": [
       "6470.414201176658"
      ]
     },
     "execution_count": 13,
     "metadata": {},
     "output_type": "execute_result"
    }
   ],
   "source": [
    "mse=((ks-ks_pred)**2).sum()/n # Квадратичная ошибка\n",
    "mse"
   ]
  },
  {
   "cell_type": "code",
   "execution_count": 51,
   "metadata": {},
   "outputs": [
    {
     "data": {
      "text/plain": [
       "array([-134.89621821,   11.89839297,  -68.07974498,  -49.2851338 ,\n",
       "        -89.99891262,  111.38492091,   67.31354303,   64.74181032,\n",
       "        -12.64202321,   99.56336561])"
      ]
     },
     "execution_count": 51,
     "metadata": {},
     "output_type": "execute_result"
    }
   ],
   "source": [
    "remains=(ks-ks_pred) # Проверка на остатки\n",
    "remains"
   ]
  },
  {
   "cell_type": "code",
   "execution_count": 52,
   "metadata": {},
   "outputs": [
    {
     "data": {
      "text/plain": [
       "ShapiroResult(statistic=0.9479533433914185, pvalue=0.6443524360656738)"
      ]
     },
     "execution_count": 52,
     "metadata": {},
     "output_type": "execute_result"
    }
   ],
   "source": [
    "stats.shapiro(remains) # Проверка на остатки pvalue>alpha, Нулевая гипотеза,нормальное распределение."
   ]
  },
  {
   "cell_type": "code",
   "execution_count": 53,
   "metadata": {},
   "outputs": [
    {
     "data": {
      "text/plain": [
       "[<matplotlib.lines.Line2D at 0x292d78b9e50>]"
      ]
     },
     "execution_count": 53,
     "metadata": {},
     "output_type": "execute_result"
    },
    {
     "data": {
      "image/png": "[encoded data removed]",
      "text/plain": [
       "<Figure size 640x480 with 1 Axes>"
      ]
     },
     "metadata": {},
     "output_type": "display_data"
    }
   ],
   "source": [
    "plt.scatter(zp,ks)\n",
    "plt.plot(zp, ks_pred)"
   ]
  },
  {
   "cell_type": "markdown",
   "metadata": {},
   "source": [
    "* Матричный метод без inrersept:"
   ]
  },
  {
   "cell_type": "code",
   "execution_count": 66,
   "metadata": {},
   "outputs": [],
   "source": [
    "zp = np.array([35, 45, 190, 200, 40, 70, 54, 150, 120, 110])\n",
    "ks = np.array([401, 574, 874, 919, 459, 739, 653, 902, 746, 832])"
   ]
  },
  {
   "cell_type": "code",
   "execution_count": 67,
   "metadata": {},
   "outputs": [
    {
     "name": "stdout",
     "output_type": "stream",
     "text": [
      "[ 35  45 190 200  40  70  54 150 120 110]\n",
      "[401 574 874 919 459 739 653 902 746 832]\n"
     ]
    }
   ],
   "source": [
    "x = len(zp)\n",
    "print(zp)\n",
    "y = len(ks)\n",
    "print(ks)"
   ]
  },
  {
   "cell_type": "code",
   "execution_count": 87,
   "metadata": {},
   "outputs": [
    {
     "data": {
      "text/plain": [
       "array([[ 35],\n",
       "       [ 45],\n",
       "       [190],\n",
       "       [200],\n",
       "       [ 40],\n",
       "       [ 70],\n",
       "       [ 54],\n",
       "       [150],\n",
       "       [120],\n",
       "       [110]])"
      ]
     },
     "execution_count": 87,
     "metadata": {},
     "output_type": "execute_result"
    }
   ],
   "source": [
    "X = zp.reshape((10,1))\n",
    "X"
   ]
  },
  {
   "cell_type": "code",
   "execution_count": 83,
   "metadata": {},
   "outputs": [
    {
     "data": {
      "text/plain": [
       "array([[401],\n",
       "       [574],\n",
       "       [874],\n",
       "       [919],\n",
       "       [459],\n",
       "       [739],\n",
       "       [653],\n",
       "       [902],\n",
       "       [746],\n",
       "       [832]])"
      ]
     },
     "execution_count": 83,
     "metadata": {},
     "output_type": "execute_result"
    }
   ],
   "source": [
    "y = ks.reshape((10,1))\n",
    "y"
   ]
  },
  {
   "cell_type": "code",
   "execution_count": 81,
   "metadata": {},
   "outputs": [
    {
     "data": {
      "text/plain": [
       "array([  1.,   1.,   1.,   1.,   1.,   1.,   1.,   1.,   1.,   1.,  35.,\n",
       "        45., 190., 200.,  40.,  70.,  54., 150., 120., 110.])"
      ]
     },
     "execution_count": 81,
     "metadata": {},
     "output_type": "execute_result"
    }
   ],
   "source": [
    "#X=np.hstack([np.ones((10)),x]) # добавление интерсепта\n"
   ]
  },
  {
   "cell_type": "code",
   "execution_count": 89,
   "metadata": {},
   "outputs": [
    {
     "name": "stdout",
     "output_type": "stream",
     "text": [
      "коэффициент [5.88982042]\n"
     ]
    }
   ],
   "source": [
    "B = np.dot(np.linalg.inv(np.dot(X.T,X)), X.T @ y)\n",
    "print('коэффициент', *B)"
   ]
  },
  {
   "cell_type": "code",
   "execution_count": 96,
   "metadata": {},
   "outputs": [
    {
     "data": {
      "text/plain": [
       "array([ 206.1437147 ,  265.04191891, 1119.06587983, 1177.96408403,\n",
       "        235.59281681,  412.28742941,  318.05030269,  883.47306302,\n",
       "        706.77845042,  647.88024621])"
      ]
     },
     "execution_count": 96,
     "metadata": {},
     "output_type": "execute_result"
    }
   ],
   "source": [
    "ks_pred1=b1*zp\n",
    "ks_pred1"
   ]
  },
  {
   "cell_type": "code",
   "execution_count": 105,
   "metadata": {},
   "outputs": [
    {
     "data": {
      "text/plain": [
       "<matplotlib.legend.Legend at 0x292da0bb310>"
      ]
     },
     "execution_count": 105,
     "metadata": {},
     "output_type": "execute_result"
    },
    {
     "data": {
      "image/png": "[encoded data removed]",
      "text/plain": [
       "<Figure size 640x480 with 1 Axes>"
      ]
     },
     "metadata": {},
     "output_type": "display_data"
    }
   ],
   "source": [
    "plt.scatter(zp,ks)\n",
    "plt.plot(zp, ks_pred, color = \"red\")\n",
    "plt.scatter(zp,ks)\n",
    "plt.plot(zp, ks_pred1, color = \"blue\")\n",
    "plt.xlabel(\"Зароботная плата\")\n",
    "plt.ylabel(\"Кредитный скоринг\")\n",
    "plt.legend(['intersept', 'без intersept'])"
   ]
  },
  {
   "cell_type": "markdown",
   "metadata": {},
   "source": [
    "2. Посчитать коэффициент линейной регрессии при заработной плате (zp), используя градиентный спуск (без intercept)."
   ]
  },
  {
   "cell_type": "code",
   "execution_count": 16,
   "metadata": {},
   "outputs": [],
   "source": [
    "zp = np.array([35, 45, 190, 200, 40, 70, 54, 150, 120, 110])\n",
    "ks = np.array([401, 574, 874, 919, 459, 739, 653, 902, 746, 832])"
   ]
  },
  {
   "cell_type": "code",
   "execution_count": 10,
   "metadata": {},
   "outputs": [],
   "source": [
    "n=10\n",
    "b1=0.1"
   ]
  },
  {
   "cell_type": "code",
   "execution_count": 6,
   "metadata": {},
   "outputs": [
    {
     "data": {
      "text/plain": [
       "518336.326"
      ]
     },
     "execution_count": 6,
     "metadata": {},
     "output_type": "execute_result"
    }
   ],
   "source": [
    "#mse = 1/n *np.sum((b1*zp-ks)**2) # производная средней квадратичной ошибки\n",
    "#mse = 2/n * np.sum((b1*zp-ks)*zp)\n",
    "mse"
   ]
  },
  {
   "cell_type": "code",
   "execution_count": 116,
   "metadata": {},
   "outputs": [
    {
     "name": "stdout",
     "output_type": "stream",
     "text": [
      "Iteration : 0,b1:1.6952808000000004,mse298904.5992334053\n",
      "Iteration : 20,b1:5.883166639986514,mse56517.468344241344\n",
      "Iteration : 40,b1:5.88980986526988,mse56516.858417254174\n",
      "Iteration : 60,b1:5.889820403389555,mse56516.85841571941\n",
      "Iteration : 80,b1:5.889820420106129,mse56516.8584157194\n",
      "Iteration : 100,b1:5.889820420132646,mse56516.85841571941\n",
      "Iteration : 120,b1:5.889820420132688,mse56516.8584157194\n",
      "Iteration : 140,b1:5.889820420132688,mse56516.8584157194\n"
     ]
    }
   ],
   "source": [
    "def mse_(b1, ks=ks,zp=zp,n=10):\n",
    "    return np.sum((b1*zp-ks)**2)/n\n",
    "alpha= 1e-5\n",
    "b1=0.1\n",
    "for i in range(141):\n",
    "    b1 -= alpha*(2/n)*np.sum((b1*zp-ks)*zp)\n",
    "    if i %20==0:\n",
    "        print(f\"Iteration : {i},b1:{b1},mse{mse_(b1)}\")"
   ]
  },
  {
   "cell_type": "markdown",
   "metadata": {},
   "source": [
    "3. Произвести вычисления как в пункте 2, но с вычислением intercept. Учесть, что изменение коэффициентов должно производиться на каждом шаге одновременно (то есть изменение одного коэффициента не должно влиять на изменение другого во время одной итерации)."
   ]
  },
  {
   "cell_type": "code",
   "execution_count": 70,
   "metadata": {},
   "outputs": [
    {
     "name": "stdout",
     "output_type": "stream",
     "text": [
      "Iteration : 0,b0:0.112866236344b1:4.885234,mse509485.71032951167\n",
      "Iteration : 200000,b0:423.01987901716745b1:2.776267277130596,mse2397384517.104741\n",
      "Iteration : 400000,b0:443.16930514092576b1:2.627958592164428,mse2634558786.3897376\n",
      "Iteration : 600000,b0:444.12932848133295b1:2.620892395922504,mse2646138161.06355\n",
      "Iteration : 800000,b0:444.1750689807544b1:2.620555725623448,mse2646690496.3418016\n",
      "Iteration : 1000000,b0:444.17724829578253b1:2.620539684901298,mse2646716813.902573\n",
      "Iteration : 1200000,b0:444.17735212967165b1:2.6205389206379657,mse2646718067.81115\n",
      "Iteration : 1400000,b0:444.177357076855b1:2.6205388842245085,mse2646718127.5538445\n",
      "Iteration : 1600000,b0:444.1773573124796b1:2.6205388824902074,mse2646718130.399272\n",
      "Iteration : 1800000,b0:444.1773573224922b1:2.6205388824165103,mse2646718130.5201845\n",
      "Iteration : 2000000,b0:444.1773573224922b1:2.6205388824165103,mse2646718130.5201845\n",
      "Iteration : 2200000,b0:444.1773573224922b1:2.6205388824165103,mse2646718130.5201845\n"
     ]
    }
   ],
   "source": [
    "def mse_(b0,b1, ks=ks,zp=zp,n=10):\n",
    "    return np.sum((b0+b1*zp-ks)**2)/n\n",
    "alpha= 3e-5\n",
    "b1=0.1\n",
    "b0=0.1\n",
    "for i in range(2200001):\n",
    "    b1 -= alpha*(2/n)*np.sum((b0+b1*zp-ks)*zp)\n",
    "    b0 -= alpha*(2/n)*np.sum((b0+b1*zp-ks))\n",
    "    if i %200000==0:\n",
    "        print(f\"Iteration : {i},b0:{b0}b1:{b1},mse{mse_(b1,b0)}\")"
   ]
  },
  {
   "cell_type": "code",
   "execution_count": 13,
   "metadata": {},
   "outputs": [
    {
     "name": "stdout",
     "output_type": "stream",
     "text": [
      "Collecting scikit-learn\n",
      "  Obtaining dependency information for scikit-learn from https://files.pythonhosted.org/packages/f1/7d/2e562207176a5dcdad513085670674bb11ffaf37e1393eacb6d7fb502481/scikit_learn-1.3.1-cp311-cp311-win_amd64.whl.metadata\n",
      "  Downloading scikit_learn-1.3.1-cp311-cp311-win_amd64.whl.metadata (11 kB)\n",
      "Requirement already satisfied: numpy<2.0,>=1.17.3 in c:\\users\\roman33\\appdata\\local\\programs\\python\\python311\\lib\\site-packages (from scikit-learn) (1.25.2)\n",
      "Requirement already satisfied: scipy>=1.5.0 in c:\\users\\roman33\\appdata\\local\\programs\\python\\python311\\lib\\site-packages (from scikit-learn) (1.11.2)\n",
      "Collecting joblib>=1.1.1 (from scikit-learn)\n",
      "  Obtaining dependency information for joblib>=1.1.1 from https://files.pythonhosted.org/packages/10/40/d551139c85db202f1f384ba8bcf96aca2f329440a844f924c8a0040b6d02/joblib-1.3.2-py3-none-any.whl.metadata\n",
      "  Downloading joblib-1.3.2-py3-none-any.whl.metadata (5.4 kB)\n",
      "Collecting threadpoolctl>=2.0.0 (from scikit-learn)\n",
      "  Obtaining dependency information for threadpoolctl>=2.0.0 from https://files.pythonhosted.org/packages/81/12/fd4dea011af9d69e1cad05c75f3f7202cdcbeac9b712eea58ca779a72865/threadpoolctl-3.2.0-py3-none-any.whl.metadata\n",
      "  Downloading threadpoolctl-3.2.0-py3-none-any.whl.metadata (10.0 kB)\n",
      "Downloading scikit_learn-1.3.1-cp311-cp311-win_amd64.whl (9.2 MB)\n",
      "   ---------------------------------------- 0.0/9.2 MB ? eta -:--:--\n",
      "   ---------------------------------------- 0.0/9.2 MB ? eta -:--:--\n",
      "   ---------------------------------------- 0.0/9.2 MB 435.7 kB/s eta 0:00:22\n",
      "   ---------------------------------------- 0.0/9.2 MB 281.8 kB/s eta 0:00:33\n",
      "   ---------------------------------------- 0.1/9.2 MB 365.7 kB/s eta 0:00:26\n",
      "   ---------------------------------------- 0.1/9.2 MB 403.5 kB/s eta 0:00:23\n",
      "   ---------------------------------------- 0.1/9.2 MB 409.6 kB/s eta 0:00:23\n",
      "    --------------------------------------- 0.1/9.2 MB 473.7 kB/s eta 0:00:20\n",
      "    --------------------------------------- 0.2/9.2 MB 492.3 kB/s eta 0:00:19\n",
      "    --------------------------------------- 0.2/9.2 MB 491.5 kB/s eta 0:00:19\n",
      "    --------------------------------------- 0.2/9.2 MB 474.7 kB/s eta 0:00:19\n",
      "   - -------------------------------------- 0.3/9.2 MB 491.5 kB/s eta 0:00:19\n",
      "   - -------------------------------------- 0.3/9.2 MB 517.0 kB/s eta 0:00:18\n",
      "   - -------------------------------------- 0.3/9.2 MB 492.0 kB/s eta 0:00:19\n",
      "   - -------------------------------------- 0.3/9.2 MB 535.3 kB/s eta 0:00:17\n",
      "   - -------------------------------------- 0.3/9.2 MB 512.0 kB/s eta 0:00:18\n",
      "   - -------------------------------------- 0.4/9.2 MB 551.5 kB/s eta 0:00:16\n",
      "   - -------------------------------------- 0.4/9.2 MB 570.5 kB/s eta 0:00:16\n",
      "   - -------------------------------------- 0.4/9.2 MB 570.5 kB/s eta 0:00:16\n",
      "   - -------------------------------------- 0.5/9.2 MB 542.3 kB/s eta 0:00:17\n",
      "   -- ------------------------------------- 0.5/9.2 MB 561.7 kB/s eta 0:00:16\n",
      "   -- ------------------------------------- 0.5/9.2 MB 575.3 kB/s eta 0:00:16\n",
      "   -- ------------------------------------- 0.6/9.2 MB 569.5 kB/s eta 0:00:16\n",
      "   -- ------------------------------------- 0.6/9.2 MB 572.4 kB/s eta 0:00:16\n",
      "   -- ------------------------------------- 0.6/9.2 MB 593.9 kB/s eta 0:00:15\n",
      "   -- ------------------------------------- 0.6/9.2 MB 579.4 kB/s eta 0:00:15\n",
      "   -- ------------------------------------- 0.7/9.2 MB 590.9 kB/s eta 0:00:15\n",
      "   --- ------------------------------------ 0.7/9.2 MB 593.5 kB/s eta 0:00:15\n",
      "   --- ------------------------------------ 0.7/9.2 MB 621.1 kB/s eta 0:00:14\n",
      "   --- ------------------------------------ 0.8/9.2 MB 622.4 kB/s eta 0:00:14\n",
      "   --- ------------------------------------ 0.8/9.2 MB 615.5 kB/s eta 0:00:14\n",
      "   --- ------------------------------------ 0.8/9.2 MB 632.3 kB/s eta 0:00:14\n",
      "   --- ------------------------------------ 0.9/9.2 MB 647.9 kB/s eta 0:00:13\n",
      "   ---- ----------------------------------- 0.9/9.2 MB 648.2 kB/s eta 0:00:13\n",
      "   ---- ----------------------------------- 1.0/9.2 MB 655.7 kB/s eta 0:00:13\n",
      "   ---- ----------------------------------- 1.1/9.2 MB 689.4 kB/s eta 0:00:12\n",
      "   ---- ----------------------------------- 1.1/9.2 MB 688.3 kB/s eta 0:00:12\n",
      "   ----- ---------------------------------- 1.2/9.2 MB 719.2 kB/s eta 0:00:12\n",
      "   ----- ---------------------------------- 1.2/9.2 MB 723.5 kB/s eta 0:00:12\n",
      "   ----- ---------------------------------- 1.2/9.2 MB 734.5 kB/s eta 0:00:11\n",
      "   ----- ---------------------------------- 1.3/9.2 MB 754.8 kB/s eta 0:00:11\n",
      "   ----- ---------------------------------- 1.4/9.2 MB 757.9 kB/s eta 0:00:11\n",
      "   ------ --------------------------------- 1.5/9.2 MB 789.0 kB/s eta 0:00:10\n",
      "   ------ --------------------------------- 1.5/9.2 MB 785.6 kB/s eta 0:00:10\n",
      "   ------ --------------------------------- 1.6/9.2 MB 815.1 kB/s eta 0:00:10\n",
      "   ------- -------------------------------- 1.6/9.2 MB 822.1 kB/s eta 0:00:10\n",
      "   ------- -------------------------------- 1.7/9.2 MB 838.5 kB/s eta 0:00:09\n",
      "   ------- -------------------------------- 1.8/9.2 MB 855.4 kB/s eta 0:00:09\n",
      "   ------- -------------------------------- 1.8/9.2 MB 854.5 kB/s eta 0:00:09\n",
      "   -------- ------------------------------- 1.8/9.2 MB 856.5 kB/s eta 0:00:09\n",
      "   -------- ------------------------------- 1.9/9.2 MB 866.2 kB/s eta 0:00:09\n",
      "   -------- ------------------------------- 2.0/9.2 MB 877.2 kB/s eta 0:00:09\n",
      "   -------- ------------------------------- 2.0/9.2 MB 872.5 kB/s eta 0:00:09\n",
      "   --------- ------------------------------ 2.1/9.2 MB 905.0 kB/s eta 0:00:08\n",
      "   --------- ------------------------------ 2.1/9.2 MB 908.0 kB/s eta 0:00:08\n",
      "   --------- ------------------------------ 2.2/9.2 MB 934.0 kB/s eta 0:00:08\n",
      "   --------- ------------------------------ 2.3/9.2 MB 934.4 kB/s eta 0:00:08\n",
      "   ---------- ----------------------------- 2.4/9.2 MB 946.2 kB/s eta 0:00:08\n",
      "   ---------- ----------------------------- 2.5/9.2 MB 960.9 kB/s eta 0:00:08\n",
      "   ---------- ----------------------------- 2.5/9.2 MB 973.2 kB/s eta 0:00:07\n",
      "   ----------- ---------------------------- 2.6/9.2 MB 998.6 kB/s eta 0:00:07\n",
      "   ----------- ---------------------------- 2.7/9.2 MB 1.0 MB/s eta 0:00:07\n",
      "   ------------ --------------------------- 2.8/9.2 MB 1.0 MB/s eta 0:00:07\n",
      "   ------------ --------------------------- 2.9/9.2 MB 1.1 MB/s eta 0:00:06\n",
      "   ------------- -------------------------- 3.0/9.2 MB 1.1 MB/s eta 0:00:06\n",
      "   ------------- -------------------------- 3.1/9.2 MB 1.1 MB/s eta 0:00:06\n",
      "   ------------- -------------------------- 3.2/9.2 MB 1.1 MB/s eta 0:00:06\n",
      "   -------------- ------------------------- 3.3/9.2 MB 1.1 MB/s eta 0:00:06\n",
      "   -------------- ------------------------- 3.4/9.2 MB 1.1 MB/s eta 0:00:06\n",
      "   --------------- ------------------------ 3.5/9.2 MB 1.1 MB/s eta 0:00:05\n",
      "   --------------- ------------------------ 3.6/9.2 MB 1.2 MB/s eta 0:00:05\n",
      "   --------------- ------------------------ 3.6/9.2 MB 1.2 MB/s eta 0:00:05\n",
      "   ---------------- ----------------------- 3.7/9.2 MB 1.2 MB/s eta 0:00:05\n",
      "   ---------------- ----------------------- 3.8/9.2 MB 1.2 MB/s eta 0:00:05\n",
      "   ---------------- ----------------------- 3.8/9.2 MB 1.2 MB/s eta 0:00:05\n",
      "   ---------------- ----------------------- 3.9/9.2 MB 1.2 MB/s eta 0:00:05\n",
      "   ----------------- ---------------------- 4.0/9.2 MB 1.2 MB/s eta 0:00:05\n",
      "   ----------------- ---------------------- 4.0/9.2 MB 1.2 MB/s eta 0:00:05\n",
      "   ----------------- ---------------------- 4.1/9.2 MB 1.2 MB/s eta 0:00:05\n",
      "   ------------------ --------------------- 4.2/9.2 MB 1.2 MB/s eta 0:00:05\n",
      "   ------------------ --------------------- 4.3/9.2 MB 1.2 MB/s eta 0:00:05\n",
      "   ------------------ --------------------- 4.4/9.2 MB 1.2 MB/s eta 0:00:04\n",
      "   ------------------- -------------------- 4.5/9.2 MB 1.2 MB/s eta 0:00:04\n",
      "   ------------------- -------------------- 4.5/9.2 MB 1.2 MB/s eta 0:00:04\n",
      "   ------------------- -------------------- 4.5/9.2 MB 1.2 MB/s eta 0:00:04\n",
      "   ------------------- -------------------- 4.5/9.2 MB 1.2 MB/s eta 0:00:04\n",
      "   -------------------- ------------------- 4.8/9.2 MB 1.3 MB/s eta 0:00:04\n",
      "   --------------------- ------------------ 4.9/9.2 MB 1.3 MB/s eta 0:00:04\n",
      "   --------------------- ------------------ 5.0/9.2 MB 1.3 MB/s eta 0:00:04\n",
      "   --------------------- ------------------ 5.0/9.2 MB 1.3 MB/s eta 0:00:04\n",
      "   ---------------------- ----------------- 5.1/9.2 MB 1.3 MB/s eta 0:00:04\n",
      "   ---------------------- ----------------- 5.2/9.2 MB 1.3 MB/s eta 0:00:04\n",
      "   ---------------------- ----------------- 5.3/9.2 MB 1.3 MB/s eta 0:00:03\n",
      "   ----------------------- ---------------- 5.4/9.2 MB 1.3 MB/s eta 0:00:03\n",
      "   ----------------------- ---------------- 5.5/9.2 MB 1.3 MB/s eta 0:00:03\n",
      "   ----------------------- ---------------- 5.5/9.2 MB 1.3 MB/s eta 0:00:03\n",
      "   ----------------------- ---------------- 5.5/9.2 MB 1.3 MB/s eta 0:00:03\n",
      "   ----------------------- ---------------- 5.5/9.2 MB 1.3 MB/s eta 0:00:03\n",
      "   ------------------------ --------------- 5.5/9.2 MB 1.3 MB/s eta 0:00:03\n",
      "   ------------------------ --------------- 5.7/9.2 MB 1.3 MB/s eta 0:00:03\n",
      "   ------------------------- -------------- 5.8/9.2 MB 1.3 MB/s eta 0:00:03\n",
      "   ------------------------- -------------- 5.8/9.2 MB 1.3 MB/s eta 0:00:03\n",
      "   ------------------------- -------------- 5.9/9.2 MB 1.3 MB/s eta 0:00:03\n",
      "   ------------------------- -------------- 6.0/9.2 MB 1.3 MB/s eta 0:00:03\n",
      "   -------------------------- ------------- 6.1/9.2 MB 1.3 MB/s eta 0:00:03\n",
      "   -------------------------- ------------- 6.1/9.2 MB 1.3 MB/s eta 0:00:03\n",
      "   --------------------------- ------------ 6.2/9.2 MB 1.3 MB/s eta 0:00:03\n",
      "   --------------------------- ------------ 6.3/9.2 MB 1.3 MB/s eta 0:00:03\n",
      "   --------------------------- ------------ 6.4/9.2 MB 1.4 MB/s eta 0:00:03\n",
      "   --------------------------- ------------ 6.4/9.2 MB 1.3 MB/s eta 0:00:03\n",
      "   ---------------------------- ----------- 6.5/9.2 MB 1.3 MB/s eta 0:00:03\n",
      "   ---------------------------- ----------- 6.6/9.2 MB 1.4 MB/s eta 0:00:02\n",
      "   ---------------------------- ----------- 6.6/9.2 MB 1.3 MB/s eta 0:00:02\n",
      "   ----------------------------- ---------- 6.8/9.2 MB 1.4 MB/s eta 0:00:02\n",
      "   ----------------------------- ---------- 6.8/9.2 MB 1.4 MB/s eta 0:00:02\n",
      "   ----------------------------- ---------- 6.9/9.2 MB 1.4 MB/s eta 0:00:02\n",
      "   ------------------------------ --------- 6.9/9.2 MB 1.4 MB/s eta 0:00:02\n",
      "   ------------------------------ --------- 7.0/9.2 MB 1.4 MB/s eta 0:00:02\n",
      "   ------------------------------ --------- 7.1/9.2 MB 1.4 MB/s eta 0:00:02\n",
      "   ------------------------------- -------- 7.2/9.2 MB 1.4 MB/s eta 0:00:02\n",
      "   ------------------------------- -------- 7.2/9.2 MB 1.4 MB/s eta 0:00:02\n",
      "   ------------------------------- -------- 7.3/9.2 MB 1.4 MB/s eta 0:00:02\n",
      "   -------------------------------- ------- 7.4/9.2 MB 1.4 MB/s eta 0:00:02\n",
      "   -------------------------------- ------- 7.5/9.2 MB 1.4 MB/s eta 0:00:02\n",
      "   -------------------------------- ------- 7.5/9.2 MB 1.4 MB/s eta 0:00:02\n",
      "   -------------------------------- ------- 7.6/9.2 MB 1.4 MB/s eta 0:00:02\n",
      "   --------------------------------- ------ 7.6/9.2 MB 1.4 MB/s eta 0:00:02\n",
      "   --------------------------------- ------ 7.7/9.2 MB 1.4 MB/s eta 0:00:02\n",
      "   --------------------------------- ------ 7.8/9.2 MB 1.4 MB/s eta 0:00:02\n",
      "   ---------------------------------- ----- 7.9/9.2 MB 1.4 MB/s eta 0:00:01\n",
      "   ---------------------------------- ----- 7.9/9.2 MB 1.4 MB/s eta 0:00:01\n",
      "   ---------------------------------- ----- 7.9/9.2 MB 1.4 MB/s eta 0:00:01\n",
      "   ---------------------------------- ----- 8.0/9.2 MB 1.4 MB/s eta 0:00:01\n",
      "   ----------------------------------- ---- 8.1/9.2 MB 1.4 MB/s eta 0:00:01\n",
      "   ----------------------------------- ---- 8.2/9.2 MB 1.4 MB/s eta 0:00:01\n",
      "   ----------------------------------- ---- 8.2/9.2 MB 1.4 MB/s eta 0:00:01\n",
      "   ------------------------------------ --- 8.3/9.2 MB 1.4 MB/s eta 0:00:01\n",
      "   ------------------------------------ --- 8.4/9.2 MB 1.4 MB/s eta 0:00:01\n",
      "   ------------------------------------ --- 8.4/9.2 MB 1.4 MB/s eta 0:00:01\n",
      "   ------------------------------------ --- 8.5/9.2 MB 1.4 MB/s eta 0:00:01\n",
      "   ------------------------------------- -- 8.6/9.2 MB 1.4 MB/s eta 0:00:01\n",
      "   ------------------------------------- -- 8.6/9.2 MB 1.4 MB/s eta 0:00:01\n",
      "   ------------------------------------- -- 8.7/9.2 MB 1.4 MB/s eta 0:00:01\n",
      "   -------------------------------------- - 8.8/9.2 MB 1.4 MB/s eta 0:00:01\n",
      "   -------------------------------------- - 8.8/9.2 MB 1.4 MB/s eta 0:00:01\n",
      "   -------------------------------------- - 8.9/9.2 MB 1.4 MB/s eta 0:00:01\n",
      "   -------------------------------------- - 9.0/9.2 MB 1.4 MB/s eta 0:00:01\n",
      "   ---------------------------------------  9.1/9.2 MB 1.4 MB/s eta 0:00:01\n",
      "   ---------------------------------------  9.1/9.2 MB 1.4 MB/s eta 0:00:01\n",
      "   ---------------------------------------  9.2/9.2 MB 1.4 MB/s eta 0:00:01\n",
      "   ---------------------------------------  9.2/9.2 MB 1.4 MB/s eta 0:00:01\n",
      "   ---------------------------------------- 9.2/9.2 MB 1.4 MB/s eta 0:00:00\n",
      "Downloading joblib-1.3.2-py3-none-any.whl (302 kB)\n",
      "   ---------------------------------------- 0.0/302.2 kB ? eta -:--:--\n",
      "   ---------- ----------------------------- 81.9/302.2 kB 2.2 MB/s eta 0:00:01\n",
      "   ----------------------- ---------------- 174.1/302.2 kB 2.1 MB/s eta 0:00:01\n",
      "   ------------------------------------ --- 276.5/302.2 kB 2.1 MB/s eta 0:00:01\n",
      "   ---------------------------------------- 302.2/302.2 kB 1.7 MB/s eta 0:00:00\n",
      "Downloading threadpoolctl-3.2.0-py3-none-any.whl (15 kB)\n",
      "Installing collected packages: threadpoolctl, joblib, scikit-learn\n",
      "Successfully installed joblib-1.3.2 scikit-learn-1.3.1 threadpoolctl-3.2.0\n",
      "Note: you may need to restart the kernel to use updated packages.\n"
     ]
    }
   ],
   "source": [
    "pip install scikit-learn"
   ]
  },
  {
   "cell_type": "code",
   "execution_count": 14,
   "metadata": {},
   "outputs": [],
   "source": [
    "from sklearn.linear_model import LinearRegression"
   ]
  },
  {
   "cell_type": "code",
   "execution_count": 37,
   "metadata": {},
   "outputs": [],
   "source": [
    "model= LinearRegression()"
   ]
  },
  {
   "cell_type": "code",
   "execution_count": 17,
   "metadata": {},
   "outputs": [
    {
     "data": {
      "text/plain": [
       "array([[ 35],\n",
       "       [ 45],\n",
       "       [190],\n",
       "       [200],\n",
       "       [ 40],\n",
       "       [ 70],\n",
       "       [ 54],\n",
       "       [150],\n",
       "       [120],\n",
       "       [110]])"
      ]
     },
     "execution_count": 17,
     "metadata": {},
     "output_type": "execute_result"
    }
   ],
   "source": [
    "s=zp.reshape(-1,1)\n",
    "s"
   ]
  },
  {
   "cell_type": "code",
   "execution_count": 29,
   "metadata": {},
   "outputs": [
    {
     "name": "stdout",
     "output_type": "stream",
     "text": [
      "444.17735732435943\n",
      "2.6205388824027667\n"
     ]
    }
   ],
   "source": [
    "regres =model.fit(s,ks) # Интерсепт\n",
    "print(regres.intercept_) #b0\n",
    "print(*regres.coef_)     #b1"
   ]
  }
 ],
 "metadata": {
  "kernelspec": {
   "display_name": "Python 3",
   "language": "python",
   "name": "python3"
  },
  "language_info": {
   "codemirror_mode": {
    "name": "ipython",
    "version": 3
   },
   "file_extension": ".py",
   "mimetype": "text/x-python",
   "name": "python",
   "nbconvert_exporter": "python",
   "pygments_lexer": "ipython3",
   "version": "3.11.5"
  },
  "orig_nbformat": 4
 },
 "nbformat": 4,
 "nbformat_minor": 2
}
